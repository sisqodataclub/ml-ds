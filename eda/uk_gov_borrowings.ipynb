{
 "cells": [
  {
   "cell_type": "code",
   "execution_count": 82,
   "id": "5f324939-b804-452e-964f-0050996cd110",
   "metadata": {},
   "outputs": [],
   "source": [
    "import pandas as pd\n",
    "\n",
    "# For regular expressions\n",
    "import re\n",
    "# For handling string\n",
    "import string\n",
    "# To interact with Google Sheets.\n",
    "import gspread\n",
    "#  For authenticating with Google APIs.\n",
    "from google.oauth2.credentials import Credentials\n",
    "from google.oauth2 import service_account\n",
    "from oauth2client.service_account import ServiceAccountCredentials"
   ]
  },
  {
   "cell_type": "code",
   "execution_count": 83,
   "id": "903325ce-7759-4f3a-8f04-37f4569923a0",
   "metadata": {},
   "outputs": [],
   "source": [
    "scope= ['https://www.googleapis.com/auth/spreadsheets','https://www.googleapis.com/auth/drive']\n",
    "\n",
    "credentials=ServiceAccountCredentials.from_json_keyfile_name(r'C:\\Users\\fd92u\\Downloads\\service_account.json', scope)\n",
    "client=gspread.authorize(credentials)"
   ]
  },
  {
   "cell_type": "code",
   "execution_count": 84,
   "id": "5d84f001-e9c5-4661-bc6a-49d064c3d01c",
   "metadata": {},
   "outputs": [],
   "source": [
    "from gspread_dataframe import set_with_dataframe\n",
    "# Open the existing Google Sheet (Use the same name from when you created it)\n",
    "spreadsheet = client.open(\"macroeconomics\")\n",
    "# Step 3: Select Sheet2 (either by title or index)\n",
    "# Option A: By sheet name\n",
    "worksheet = spreadsheet.worksheet(\"uk_net_borrowing\")  # Use the exact name of the sheet"
   ]
  },
  {
   "cell_type": "code",
   "execution_count": 85,
   "id": "fadf9489-7321-4ebf-9f2e-a2c88484d0d7",
   "metadata": {},
   "outputs": [],
   "source": [
    "# Step 4: Get all values from the worksheet\n",
    "all_values = worksheet.get_all_values()\n",
    "\n",
    "# Step 4.1: Skip the first row manually\n",
    "#data_without_first_row = all_values[1:]\n",
    "# Step 4.1: Use the first row as the header\n",
    "headers = all_values[0]\n",
    "\n",
    "# Step 4.2: Use the rest of the rows as data\n",
    "data = all_values[1:]\n",
    "\n",
    "# Step 4.3: Create a DataFrame\n",
    "import pandas as pd\n",
    "df = pd.DataFrame(data, columns=headers)\n"
   ]
  },
  {
   "cell_type": "code",
   "execution_count": 86,
   "id": "fca97e45-2594-467a-bfa2-393bf5c79700",
   "metadata": {},
   "outputs": [
    {
     "data": {
      "text/html": [
       "<div>\n",
       "<style scoped>\n",
       "    .dataframe tbody tr th:only-of-type {\n",
       "        vertical-align: middle;\n",
       "    }\n",
       "\n",
       "    .dataframe tbody tr th {\n",
       "        vertical-align: top;\n",
       "    }\n",
       "\n",
       "    .dataframe thead th {\n",
       "        text-align: right;\n",
       "    }\n",
       "</style>\n",
       "<table border=\"1\" class=\"dataframe\">\n",
       "  <thead>\n",
       "    <tr style=\"text-align: right;\">\n",
       "      <th></th>\n",
       "      <th>Time period</th>\n",
       "      <th>Public sector net borrowing excluding public sector banks\\n (£ million)</th>\n",
       "      <th>Public sector net borrowing including public sector banks \\n (£ million)</th>\n",
       "    </tr>\n",
       "  </thead>\n",
       "  <tbody>\n",
       "    <tr>\n",
       "      <th>0</th>\n",
       "      <td>1997 Apr</td>\n",
       "      <td>2,908</td>\n",
       "      <td>2,908</td>\n",
       "    </tr>\n",
       "    <tr>\n",
       "      <th>1</th>\n",
       "      <td>1997 May</td>\n",
       "      <td>2,951</td>\n",
       "      <td>2,951</td>\n",
       "    </tr>\n",
       "    <tr>\n",
       "      <th>2</th>\n",
       "      <td>1997 Jun</td>\n",
       "      <td>4,959</td>\n",
       "      <td>4,959</td>\n",
       "    </tr>\n",
       "    <tr>\n",
       "      <th>3</th>\n",
       "      <td>1997 Jul</td>\n",
       "      <td>535</td>\n",
       "      <td>535</td>\n",
       "    </tr>\n",
       "    <tr>\n",
       "      <th>4</th>\n",
       "      <td>1997 Aug</td>\n",
       "      <td>2,830</td>\n",
       "      <td>2,830</td>\n",
       "    </tr>\n",
       "    <tr>\n",
       "      <th>...</th>\n",
       "      <td>...</td>\n",
       "      <td>...</td>\n",
       "      <td>...</td>\n",
       "    </tr>\n",
       "    <tr>\n",
       "      <th>332</th>\n",
       "      <td>2024 Dec</td>\n",
       "      <td>18,524</td>\n",
       "      <td>18,524</td>\n",
       "    </tr>\n",
       "    <tr>\n",
       "      <th>333</th>\n",
       "      <td>2025 Jan</td>\n",
       "      <td>-14,908</td>\n",
       "      <td>-14,908</td>\n",
       "    </tr>\n",
       "    <tr>\n",
       "      <th>334</th>\n",
       "      <td>2025 Feb</td>\n",
       "      <td>11,801</td>\n",
       "      <td>11,801</td>\n",
       "    </tr>\n",
       "    <tr>\n",
       "      <th>335</th>\n",
       "      <td>2025 Mar</td>\n",
       "      <td>14,139</td>\n",
       "      <td>14,139</td>\n",
       "    </tr>\n",
       "    <tr>\n",
       "      <th>336</th>\n",
       "      <td>2025 Apr</td>\n",
       "      <td>20,155</td>\n",
       "      <td>20,155</td>\n",
       "    </tr>\n",
       "  </tbody>\n",
       "</table>\n",
       "<p>337 rows × 3 columns</p>\n",
       "</div>"
      ],
      "text/plain": [
       "    Time period  \\\n",
       "0      1997 Apr   \n",
       "1      1997 May   \n",
       "2      1997 Jun   \n",
       "3      1997 Jul   \n",
       "4      1997 Aug   \n",
       "..          ...   \n",
       "332    2024 Dec   \n",
       "333    2025 Jan   \n",
       "334    2025 Feb   \n",
       "335    2025 Mar   \n",
       "336    2025 Apr   \n",
       "\n",
       "    Public sector net borrowing excluding public sector banks\\n (£ million)  \\\n",
       "0                                                2,908                        \n",
       "1                                                2,951                        \n",
       "2                                                4,959                        \n",
       "3                                                  535                        \n",
       "4                                                2,830                        \n",
       "..                                                 ...                        \n",
       "332                                             18,524                        \n",
       "333                                            -14,908                        \n",
       "334                                             11,801                        \n",
       "335                                             14,139                        \n",
       "336                                             20,155                        \n",
       "\n",
       "    Public sector net borrowing including public sector banks \\n (£ million)  \n",
       "0                                                2,908                        \n",
       "1                                                2,951                        \n",
       "2                                                4,959                        \n",
       "3                                                  535                        \n",
       "4                                                2,830                        \n",
       "..                                                 ...                        \n",
       "332                                             18,524                        \n",
       "333                                            -14,908                        \n",
       "334                                             11,801                        \n",
       "335                                             14,139                        \n",
       "336                                             20,155                        \n",
       "\n",
       "[337 rows x 3 columns]"
      ]
     },
     "execution_count": 86,
     "metadata": {},
     "output_type": "execute_result"
    }
   ],
   "source": [
    "df"
   ]
  },
  {
   "cell_type": "code",
   "execution_count": null,
   "id": "595605b2-6208-442e-9937-648ba7fe42ee",
   "metadata": {},
   "outputs": [],
   "source": []
  },
  {
   "cell_type": "code",
   "execution_count": null,
   "id": "30b62b15-7506-4453-810f-ffe516fbbf68",
   "metadata": {},
   "outputs": [],
   "source": []
  },
  {
   "cell_type": "code",
   "execution_count": 87,
   "id": "3e943a20-cb34-4739-a631-09a9041b43e1",
   "metadata": {},
   "outputs": [],
   "source": [
    "import sys\n",
    "import os\n",
    "\n",
    "# Add parent directory to Python path\n",
    "parent_dir = os.path.abspath('..')\n",
    "if parent_dir not in sys.path:\n",
    "    sys.path.append(parent_dir)\n",
    "\n",
    "# Now import your functions\n",
    "from functions import data_overview, variables_overview\n"
   ]
  },
  {
   "cell_type": "code",
   "execution_count": 88,
   "id": "675a31c0-bedf-440d-bf10-1fff7217a7e6",
   "metadata": {},
   "outputs": [
    {
     "data": {
      "text/html": [
       "<div>\n",
       "<style scoped>\n",
       "    .dataframe tbody tr th:only-of-type {\n",
       "        vertical-align: middle;\n",
       "    }\n",
       "\n",
       "    .dataframe tbody tr th {\n",
       "        vertical-align: top;\n",
       "    }\n",
       "\n",
       "    .dataframe thead th {\n",
       "        text-align: right;\n",
       "    }\n",
       "</style>\n",
       "<table border=\"1\" class=\"dataframe\">\n",
       "  <thead>\n",
       "    <tr style=\"text-align: right;\">\n",
       "      <th></th>\n",
       "      <th>Data_Overview</th>\n",
       "    </tr>\n",
       "  </thead>\n",
       "  <tbody>\n",
       "    <tr>\n",
       "      <th>Columns</th>\n",
       "      <td>3.0</td>\n",
       "    </tr>\n",
       "    <tr>\n",
       "      <th>Rows</th>\n",
       "      <td>337.0</td>\n",
       "    </tr>\n",
       "    <tr>\n",
       "      <th>Missing_Values</th>\n",
       "      <td>0.0</td>\n",
       "    </tr>\n",
       "    <tr>\n",
       "      <th>Missing_Values %</th>\n",
       "      <td>0.0</td>\n",
       "    </tr>\n",
       "    <tr>\n",
       "      <th>Duplicates</th>\n",
       "      <td>0.0</td>\n",
       "    </tr>\n",
       "    <tr>\n",
       "      <th>Duplicates %</th>\n",
       "      <td>0.0</td>\n",
       "    </tr>\n",
       "    <tr>\n",
       "      <th>Categorical_variables</th>\n",
       "      <td>3.0</td>\n",
       "    </tr>\n",
       "    <tr>\n",
       "      <th>Boolean_variables</th>\n",
       "      <td>0.0</td>\n",
       "    </tr>\n",
       "    <tr>\n",
       "      <th>Numerical_variables</th>\n",
       "      <td>0.0</td>\n",
       "    </tr>\n",
       "  </tbody>\n",
       "</table>\n",
       "</div>"
      ],
      "text/plain": [
       "                       Data_Overview\n",
       "Columns                          3.0\n",
       "Rows                           337.0\n",
       "Missing_Values                   0.0\n",
       "Missing_Values %                 0.0\n",
       "Duplicates                       0.0\n",
       "Duplicates %                     0.0\n",
       "Categorical_variables            3.0\n",
       "Boolean_variables                0.0\n",
       "Numerical_variables              0.0"
      ]
     },
     "execution_count": 88,
     "metadata": {},
     "output_type": "execute_result"
    }
   ],
   "source": [
    "data_overview(df, \"Data_Overview\")   "
   ]
  },
  {
   "cell_type": "code",
   "execution_count": 89,
   "id": "d52ec577-3973-40c3-85f0-a8ee648f3b3b",
   "metadata": {},
   "outputs": [
    {
     "data": {
      "text/html": [
       "<div>\n",
       "<style scoped>\n",
       "    .dataframe tbody tr th:only-of-type {\n",
       "        vertical-align: middle;\n",
       "    }\n",
       "\n",
       "    .dataframe tbody tr th {\n",
       "        vertical-align: top;\n",
       "    }\n",
       "\n",
       "    .dataframe thead th {\n",
       "        text-align: right;\n",
       "    }\n",
       "</style>\n",
       "<table border=\"1\" class=\"dataframe\">\n",
       "  <thead>\n",
       "    <tr style=\"text-align: right;\">\n",
       "      <th></th>\n",
       "      <th>unique</th>\n",
       "      <th>dtype</th>\n",
       "      <th>null</th>\n",
       "      <th>null %</th>\n",
       "      <th>has_non_alphanumeric</th>\n",
       "      <th>has_digits</th>\n",
       "    </tr>\n",
       "  </thead>\n",
       "  <tbody>\n",
       "    <tr>\n",
       "      <th>Time period</th>\n",
       "      <td>337</td>\n",
       "      <td>object</td>\n",
       "      <td>0</td>\n",
       "      <td>0.0</td>\n",
       "      <td>False</td>\n",
       "      <td>True</td>\n",
       "    </tr>\n",
       "    <tr>\n",
       "      <th>Public sector net borrowing excluding public sector banks\\n (£ million)</th>\n",
       "      <td>333</td>\n",
       "      <td>object</td>\n",
       "      <td>0</td>\n",
       "      <td>0.0</td>\n",
       "      <td>True</td>\n",
       "      <td>True</td>\n",
       "    </tr>\n",
       "    <tr>\n",
       "      <th>Public sector net borrowing including public sector banks \\n (£ million)</th>\n",
       "      <td>334</td>\n",
       "      <td>object</td>\n",
       "      <td>0</td>\n",
       "      <td>0.0</td>\n",
       "      <td>True</td>\n",
       "      <td>True</td>\n",
       "    </tr>\n",
       "  </tbody>\n",
       "</table>\n",
       "</div>"
      ],
      "text/plain": [
       "                                                    unique   dtype  null  \\\n",
       "Time period                                            337  object     0   \n",
       "Public sector net borrowing excluding public se...     333  object     0   \n",
       "Public sector net borrowing including public se...     334  object     0   \n",
       "\n",
       "                                                    null %  \\\n",
       "Time period                                            0.0   \n",
       "Public sector net borrowing excluding public se...     0.0   \n",
       "Public sector net borrowing including public se...     0.0   \n",
       "\n",
       "                                                    has_non_alphanumeric  \\\n",
       "Time period                                                        False   \n",
       "Public sector net borrowing excluding public se...                  True   \n",
       "Public sector net borrowing including public se...                  True   \n",
       "\n",
       "                                                    has_digits  \n",
       "Time period                                               True  \n",
       "Public sector net borrowing excluding public se...        True  \n",
       "Public sector net borrowing including public se...        True  "
      ]
     },
     "execution_count": 89,
     "metadata": {},
     "output_type": "execute_result"
    }
   ],
   "source": [
    "variables_overview(df)"
   ]
  },
  {
   "cell_type": "code",
   "execution_count": 90,
   "id": "316090b1-e1a3-47fb-b3d5-c68168232ea6",
   "metadata": {},
   "outputs": [],
   "source": [
    "# Step 4.3: Rename columns to 'date' and 'gdp_value'\n",
    "df.columns = ['date', 'net_borrowing_excluding_public_sector', 'net_borrowing_including _public_sector']"
   ]
  },
  {
   "cell_type": "code",
   "execution_count": 91,
   "id": "17c0e8cb-dda8-4c59-9eff-977249357dc6",
   "metadata": {},
   "outputs": [
    {
     "data": {
      "text/html": [
       "<div>\n",
       "<style scoped>\n",
       "    .dataframe tbody tr th:only-of-type {\n",
       "        vertical-align: middle;\n",
       "    }\n",
       "\n",
       "    .dataframe tbody tr th {\n",
       "        vertical-align: top;\n",
       "    }\n",
       "\n",
       "    .dataframe thead th {\n",
       "        text-align: right;\n",
       "    }\n",
       "</style>\n",
       "<table border=\"1\" class=\"dataframe\">\n",
       "  <thead>\n",
       "    <tr style=\"text-align: right;\">\n",
       "      <th></th>\n",
       "      <th>date</th>\n",
       "      <th>net_borrowing_excluding_public_sector</th>\n",
       "      <th>net_borrowing_including _public_sector</th>\n",
       "    </tr>\n",
       "  </thead>\n",
       "  <tbody>\n",
       "    <tr>\n",
       "      <th>0</th>\n",
       "      <td>1997 Apr</td>\n",
       "      <td>2,908</td>\n",
       "      <td>2,908</td>\n",
       "    </tr>\n",
       "    <tr>\n",
       "      <th>1</th>\n",
       "      <td>1997 May</td>\n",
       "      <td>2,951</td>\n",
       "      <td>2,951</td>\n",
       "    </tr>\n",
       "    <tr>\n",
       "      <th>2</th>\n",
       "      <td>1997 Jun</td>\n",
       "      <td>4,959</td>\n",
       "      <td>4,959</td>\n",
       "    </tr>\n",
       "    <tr>\n",
       "      <th>3</th>\n",
       "      <td>1997 Jul</td>\n",
       "      <td>535</td>\n",
       "      <td>535</td>\n",
       "    </tr>\n",
       "    <tr>\n",
       "      <th>4</th>\n",
       "      <td>1997 Aug</td>\n",
       "      <td>2,830</td>\n",
       "      <td>2,830</td>\n",
       "    </tr>\n",
       "    <tr>\n",
       "      <th>...</th>\n",
       "      <td>...</td>\n",
       "      <td>...</td>\n",
       "      <td>...</td>\n",
       "    </tr>\n",
       "    <tr>\n",
       "      <th>332</th>\n",
       "      <td>2024 Dec</td>\n",
       "      <td>18,524</td>\n",
       "      <td>18,524</td>\n",
       "    </tr>\n",
       "    <tr>\n",
       "      <th>333</th>\n",
       "      <td>2025 Jan</td>\n",
       "      <td>-14,908</td>\n",
       "      <td>-14,908</td>\n",
       "    </tr>\n",
       "    <tr>\n",
       "      <th>334</th>\n",
       "      <td>2025 Feb</td>\n",
       "      <td>11,801</td>\n",
       "      <td>11,801</td>\n",
       "    </tr>\n",
       "    <tr>\n",
       "      <th>335</th>\n",
       "      <td>2025 Mar</td>\n",
       "      <td>14,139</td>\n",
       "      <td>14,139</td>\n",
       "    </tr>\n",
       "    <tr>\n",
       "      <th>336</th>\n",
       "      <td>2025 Apr</td>\n",
       "      <td>20,155</td>\n",
       "      <td>20,155</td>\n",
       "    </tr>\n",
       "  </tbody>\n",
       "</table>\n",
       "<p>337 rows × 3 columns</p>\n",
       "</div>"
      ],
      "text/plain": [
       "         date net_borrowing_excluding_public_sector  \\\n",
       "0    1997 Apr                                 2,908   \n",
       "1    1997 May                                 2,951   \n",
       "2    1997 Jun                                 4,959   \n",
       "3    1997 Jul                                   535   \n",
       "4    1997 Aug                                 2,830   \n",
       "..        ...                                   ...   \n",
       "332  2024 Dec                                18,524   \n",
       "333  2025 Jan                               -14,908   \n",
       "334  2025 Feb                                11,801   \n",
       "335  2025 Mar                                14,139   \n",
       "336  2025 Apr                                20,155   \n",
       "\n",
       "    net_borrowing_including _public_sector  \n",
       "0                                    2,908  \n",
       "1                                    2,951  \n",
       "2                                    4,959  \n",
       "3                                      535  \n",
       "4                                    2,830  \n",
       "..                                     ...  \n",
       "332                                 18,524  \n",
       "333                                -14,908  \n",
       "334                                 11,801  \n",
       "335                                 14,139  \n",
       "336                                 20,155  \n",
       "\n",
       "[337 rows x 3 columns]"
      ]
     },
     "execution_count": 91,
     "metadata": {},
     "output_type": "execute_result"
    }
   ],
   "source": [
    "df"
   ]
  },
  {
   "cell_type": "code",
   "execution_count": 92,
   "id": "dacaf6d8-189d-451f-a33f-532a8824702a",
   "metadata": {},
   "outputs": [],
   "source": [
    "# Step 1: Convert the 'date' column to datetime\n",
    "df['month_date'] = pd.to_datetime(df['date'], format='%Y %b')"
   ]
  },
  {
   "cell_type": "code",
   "execution_count": 93,
   "id": "38aca573-588d-48df-998b-975e02ba87ac",
   "metadata": {},
   "outputs": [
    {
     "data": {
      "text/html": [
       "<div>\n",
       "<style scoped>\n",
       "    .dataframe tbody tr th:only-of-type {\n",
       "        vertical-align: middle;\n",
       "    }\n",
       "\n",
       "    .dataframe tbody tr th {\n",
       "        vertical-align: top;\n",
       "    }\n",
       "\n",
       "    .dataframe thead th {\n",
       "        text-align: right;\n",
       "    }\n",
       "</style>\n",
       "<table border=\"1\" class=\"dataframe\">\n",
       "  <thead>\n",
       "    <tr style=\"text-align: right;\">\n",
       "      <th></th>\n",
       "      <th>date</th>\n",
       "      <th>net_borrowing_excluding_public_sector</th>\n",
       "      <th>net_borrowing_including _public_sector</th>\n",
       "      <th>month_date</th>\n",
       "    </tr>\n",
       "  </thead>\n",
       "  <tbody>\n",
       "    <tr>\n",
       "      <th>0</th>\n",
       "      <td>1997 Apr</td>\n",
       "      <td>2,908</td>\n",
       "      <td>2,908</td>\n",
       "      <td>1997-04-01</td>\n",
       "    </tr>\n",
       "    <tr>\n",
       "      <th>1</th>\n",
       "      <td>1997 May</td>\n",
       "      <td>2,951</td>\n",
       "      <td>2,951</td>\n",
       "      <td>1997-05-01</td>\n",
       "    </tr>\n",
       "    <tr>\n",
       "      <th>2</th>\n",
       "      <td>1997 Jun</td>\n",
       "      <td>4,959</td>\n",
       "      <td>4,959</td>\n",
       "      <td>1997-06-01</td>\n",
       "    </tr>\n",
       "    <tr>\n",
       "      <th>3</th>\n",
       "      <td>1997 Jul</td>\n",
       "      <td>535</td>\n",
       "      <td>535</td>\n",
       "      <td>1997-07-01</td>\n",
       "    </tr>\n",
       "    <tr>\n",
       "      <th>4</th>\n",
       "      <td>1997 Aug</td>\n",
       "      <td>2,830</td>\n",
       "      <td>2,830</td>\n",
       "      <td>1997-08-01</td>\n",
       "    </tr>\n",
       "    <tr>\n",
       "      <th>...</th>\n",
       "      <td>...</td>\n",
       "      <td>...</td>\n",
       "      <td>...</td>\n",
       "      <td>...</td>\n",
       "    </tr>\n",
       "    <tr>\n",
       "      <th>332</th>\n",
       "      <td>2024 Dec</td>\n",
       "      <td>18,524</td>\n",
       "      <td>18,524</td>\n",
       "      <td>2024-12-01</td>\n",
       "    </tr>\n",
       "    <tr>\n",
       "      <th>333</th>\n",
       "      <td>2025 Jan</td>\n",
       "      <td>-14,908</td>\n",
       "      <td>-14,908</td>\n",
       "      <td>2025-01-01</td>\n",
       "    </tr>\n",
       "    <tr>\n",
       "      <th>334</th>\n",
       "      <td>2025 Feb</td>\n",
       "      <td>11,801</td>\n",
       "      <td>11,801</td>\n",
       "      <td>2025-02-01</td>\n",
       "    </tr>\n",
       "    <tr>\n",
       "      <th>335</th>\n",
       "      <td>2025 Mar</td>\n",
       "      <td>14,139</td>\n",
       "      <td>14,139</td>\n",
       "      <td>2025-03-01</td>\n",
       "    </tr>\n",
       "    <tr>\n",
       "      <th>336</th>\n",
       "      <td>2025 Apr</td>\n",
       "      <td>20,155</td>\n",
       "      <td>20,155</td>\n",
       "      <td>2025-04-01</td>\n",
       "    </tr>\n",
       "  </tbody>\n",
       "</table>\n",
       "<p>337 rows × 4 columns</p>\n",
       "</div>"
      ],
      "text/plain": [
       "         date net_borrowing_excluding_public_sector  \\\n",
       "0    1997 Apr                                 2,908   \n",
       "1    1997 May                                 2,951   \n",
       "2    1997 Jun                                 4,959   \n",
       "3    1997 Jul                                   535   \n",
       "4    1997 Aug                                 2,830   \n",
       "..        ...                                   ...   \n",
       "332  2024 Dec                                18,524   \n",
       "333  2025 Jan                               -14,908   \n",
       "334  2025 Feb                                11,801   \n",
       "335  2025 Mar                                14,139   \n",
       "336  2025 Apr                                20,155   \n",
       "\n",
       "    net_borrowing_including _public_sector month_date  \n",
       "0                                    2,908 1997-04-01  \n",
       "1                                    2,951 1997-05-01  \n",
       "2                                    4,959 1997-06-01  \n",
       "3                                      535 1997-07-01  \n",
       "4                                    2,830 1997-08-01  \n",
       "..                                     ...        ...  \n",
       "332                                 18,524 2024-12-01  \n",
       "333                                -14,908 2025-01-01  \n",
       "334                                 11,801 2025-02-01  \n",
       "335                                 14,139 2025-03-01  \n",
       "336                                 20,155 2025-04-01  \n",
       "\n",
       "[337 rows x 4 columns]"
      ]
     },
     "execution_count": 93,
     "metadata": {},
     "output_type": "execute_result"
    }
   ],
   "source": [
    "df"
   ]
  },
  {
   "cell_type": "code",
   "execution_count": 94,
   "id": "e9af14da-d00f-4e3d-ad3e-0e26e8cd6ae6",
   "metadata": {},
   "outputs": [],
   "source": [
    "# Step 1: Convert 'month_date' to datetime and set it as index\n",
    "#df['month_date'] = pd.to_datetime(df['month_date'])\n",
    "df.set_index('month_date', inplace=True)\n"
   ]
  },
  {
   "cell_type": "code",
   "execution_count": 95,
   "id": "72873475-2c27-48fc-8b90-0b7e989def8b",
   "metadata": {},
   "outputs": [
    {
     "data": {
      "text/html": [
       "<div>\n",
       "<style scoped>\n",
       "    .dataframe tbody tr th:only-of-type {\n",
       "        vertical-align: middle;\n",
       "    }\n",
       "\n",
       "    .dataframe tbody tr th {\n",
       "        vertical-align: top;\n",
       "    }\n",
       "\n",
       "    .dataframe thead th {\n",
       "        text-align: right;\n",
       "    }\n",
       "</style>\n",
       "<table border=\"1\" class=\"dataframe\">\n",
       "  <thead>\n",
       "    <tr style=\"text-align: right;\">\n",
       "      <th></th>\n",
       "      <th>unique</th>\n",
       "      <th>dtype</th>\n",
       "      <th>null</th>\n",
       "      <th>null %</th>\n",
       "      <th>has_non_alphanumeric</th>\n",
       "      <th>has_digits</th>\n",
       "    </tr>\n",
       "  </thead>\n",
       "  <tbody>\n",
       "    <tr>\n",
       "      <th>date</th>\n",
       "      <td>337</td>\n",
       "      <td>object</td>\n",
       "      <td>0</td>\n",
       "      <td>0.0</td>\n",
       "      <td>False</td>\n",
       "      <td>True</td>\n",
       "    </tr>\n",
       "    <tr>\n",
       "      <th>net_borrowing_excluding_public_sector</th>\n",
       "      <td>333</td>\n",
       "      <td>object</td>\n",
       "      <td>0</td>\n",
       "      <td>0.0</td>\n",
       "      <td>True</td>\n",
       "      <td>True</td>\n",
       "    </tr>\n",
       "    <tr>\n",
       "      <th>net_borrowing_including _public_sector</th>\n",
       "      <td>334</td>\n",
       "      <td>object</td>\n",
       "      <td>0</td>\n",
       "      <td>0.0</td>\n",
       "      <td>True</td>\n",
       "      <td>True</td>\n",
       "    </tr>\n",
       "  </tbody>\n",
       "</table>\n",
       "</div>"
      ],
      "text/plain": [
       "                                        unique   dtype  null  null %  \\\n",
       "date                                       337  object     0     0.0   \n",
       "net_borrowing_excluding_public_sector      333  object     0     0.0   \n",
       "net_borrowing_including _public_sector     334  object     0     0.0   \n",
       "\n",
       "                                        has_non_alphanumeric  has_digits  \n",
       "date                                                   False        True  \n",
       "net_borrowing_excluding_public_sector                   True        True  \n",
       "net_borrowing_including _public_sector                  True        True  "
      ]
     },
     "execution_count": 95,
     "metadata": {},
     "output_type": "execute_result"
    }
   ],
   "source": [
    "variables_overview(df)"
   ]
  },
  {
   "cell_type": "code",
   "execution_count": 96,
   "id": "281c8c4d-b771-45bc-82a4-54b5f5a84188",
   "metadata": {},
   "outputs": [],
   "source": [
    "df['net_borrowing_excluding_public_sector'] = (\n",
    "    df['net_borrowing_excluding_public_sector']\n",
    "    .astype(str)\n",
    "    .str.replace(',', '', regex=False)\n",
    "    .astype(float)\n",
    "    .div(1000)  # Convert from millions to billions\n",
    "    .round(2)   # Round to 2 decimal places\n",
    ")\n"
   ]
  },
  {
   "cell_type": "code",
   "execution_count": 97,
   "id": "ee7bec38-f12c-4fd8-a33c-989ffda9c60c",
   "metadata": {},
   "outputs": [
    {
     "data": {
      "text/html": [
       "<div>\n",
       "<style scoped>\n",
       "    .dataframe tbody tr th:only-of-type {\n",
       "        vertical-align: middle;\n",
       "    }\n",
       "\n",
       "    .dataframe tbody tr th {\n",
       "        vertical-align: top;\n",
       "    }\n",
       "\n",
       "    .dataframe thead th {\n",
       "        text-align: right;\n",
       "    }\n",
       "</style>\n",
       "<table border=\"1\" class=\"dataframe\">\n",
       "  <thead>\n",
       "    <tr style=\"text-align: right;\">\n",
       "      <th></th>\n",
       "      <th>date</th>\n",
       "      <th>net_borrowing_excluding_public_sector</th>\n",
       "      <th>net_borrowing_including _public_sector</th>\n",
       "    </tr>\n",
       "    <tr>\n",
       "      <th>month_date</th>\n",
       "      <th></th>\n",
       "      <th></th>\n",
       "      <th></th>\n",
       "    </tr>\n",
       "  </thead>\n",
       "  <tbody>\n",
       "    <tr>\n",
       "      <th>1997-04-01</th>\n",
       "      <td>1997 Apr</td>\n",
       "      <td>2.91</td>\n",
       "      <td>2,908</td>\n",
       "    </tr>\n",
       "    <tr>\n",
       "      <th>1997-05-01</th>\n",
       "      <td>1997 May</td>\n",
       "      <td>2.95</td>\n",
       "      <td>2,951</td>\n",
       "    </tr>\n",
       "    <tr>\n",
       "      <th>1997-06-01</th>\n",
       "      <td>1997 Jun</td>\n",
       "      <td>4.96</td>\n",
       "      <td>4,959</td>\n",
       "    </tr>\n",
       "    <tr>\n",
       "      <th>1997-07-01</th>\n",
       "      <td>1997 Jul</td>\n",
       "      <td>0.54</td>\n",
       "      <td>535</td>\n",
       "    </tr>\n",
       "    <tr>\n",
       "      <th>1997-08-01</th>\n",
       "      <td>1997 Aug</td>\n",
       "      <td>2.83</td>\n",
       "      <td>2,830</td>\n",
       "    </tr>\n",
       "    <tr>\n",
       "      <th>...</th>\n",
       "      <td>...</td>\n",
       "      <td>...</td>\n",
       "      <td>...</td>\n",
       "    </tr>\n",
       "    <tr>\n",
       "      <th>2024-12-01</th>\n",
       "      <td>2024 Dec</td>\n",
       "      <td>18.52</td>\n",
       "      <td>18,524</td>\n",
       "    </tr>\n",
       "    <tr>\n",
       "      <th>2025-01-01</th>\n",
       "      <td>2025 Jan</td>\n",
       "      <td>-14.91</td>\n",
       "      <td>-14,908</td>\n",
       "    </tr>\n",
       "    <tr>\n",
       "      <th>2025-02-01</th>\n",
       "      <td>2025 Feb</td>\n",
       "      <td>11.80</td>\n",
       "      <td>11,801</td>\n",
       "    </tr>\n",
       "    <tr>\n",
       "      <th>2025-03-01</th>\n",
       "      <td>2025 Mar</td>\n",
       "      <td>14.14</td>\n",
       "      <td>14,139</td>\n",
       "    </tr>\n",
       "    <tr>\n",
       "      <th>2025-04-01</th>\n",
       "      <td>2025 Apr</td>\n",
       "      <td>20.16</td>\n",
       "      <td>20,155</td>\n",
       "    </tr>\n",
       "  </tbody>\n",
       "</table>\n",
       "<p>337 rows × 3 columns</p>\n",
       "</div>"
      ],
      "text/plain": [
       "                date  net_borrowing_excluding_public_sector  \\\n",
       "month_date                                                    \n",
       "1997-04-01  1997 Apr                                   2.91   \n",
       "1997-05-01  1997 May                                   2.95   \n",
       "1997-06-01  1997 Jun                                   4.96   \n",
       "1997-07-01  1997 Jul                                   0.54   \n",
       "1997-08-01  1997 Aug                                   2.83   \n",
       "...              ...                                    ...   \n",
       "2024-12-01  2024 Dec                                  18.52   \n",
       "2025-01-01  2025 Jan                                 -14.91   \n",
       "2025-02-01  2025 Feb                                  11.80   \n",
       "2025-03-01  2025 Mar                                  14.14   \n",
       "2025-04-01  2025 Apr                                  20.16   \n",
       "\n",
       "           net_borrowing_including _public_sector  \n",
       "month_date                                         \n",
       "1997-04-01                                  2,908  \n",
       "1997-05-01                                  2,951  \n",
       "1997-06-01                                  4,959  \n",
       "1997-07-01                                    535  \n",
       "1997-08-01                                  2,830  \n",
       "...                                           ...  \n",
       "2024-12-01                                 18,524  \n",
       "2025-01-01                                -14,908  \n",
       "2025-02-01                                 11,801  \n",
       "2025-03-01                                 14,139  \n",
       "2025-04-01                                 20,155  \n",
       "\n",
       "[337 rows x 3 columns]"
      ]
     },
     "execution_count": 97,
     "metadata": {},
     "output_type": "execute_result"
    }
   ],
   "source": [
    "df"
   ]
  },
  {
   "cell_type": "code",
   "execution_count": null,
   "id": "2bb5151a-f27d-41b5-b8c0-a0108faf11e3",
   "metadata": {},
   "outputs": [],
   "source": []
  },
  {
   "cell_type": "code",
   "execution_count": null,
   "id": "468baacf-ebf7-4ef0-8a7a-0b74c952d42e",
   "metadata": {},
   "outputs": [],
   "source": []
  },
  {
   "cell_type": "code",
   "execution_count": 98,
   "id": "6ef424bf-fe6f-4497-83dc-37551a6d07f9",
   "metadata": {
    "scrolled": true
   },
   "outputs": [
    {
     "data": {
      "text/html": [
       "<div>\n",
       "<style scoped>\n",
       "    .dataframe tbody tr th:only-of-type {\n",
       "        vertical-align: middle;\n",
       "    }\n",
       "\n",
       "    .dataframe tbody tr th {\n",
       "        vertical-align: top;\n",
       "    }\n",
       "\n",
       "    .dataframe thead th {\n",
       "        text-align: right;\n",
       "    }\n",
       "</style>\n",
       "<table border=\"1\" class=\"dataframe\">\n",
       "  <thead>\n",
       "    <tr style=\"text-align: right;\">\n",
       "      <th></th>\n",
       "      <th>date</th>\n",
       "      <th>net_borrowing_excluding_public_sector</th>\n",
       "      <th>net_borrowing_including _public_sector</th>\n",
       "    </tr>\n",
       "    <tr>\n",
       "      <th>month_date</th>\n",
       "      <th></th>\n",
       "      <th></th>\n",
       "      <th></th>\n",
       "    </tr>\n",
       "  </thead>\n",
       "  <tbody>\n",
       "    <tr>\n",
       "      <th>1997-04-01</th>\n",
       "      <td>1997 Apr</td>\n",
       "      <td>2.91</td>\n",
       "      <td>2,908</td>\n",
       "    </tr>\n",
       "    <tr>\n",
       "      <th>1997-05-01</th>\n",
       "      <td>1997 May</td>\n",
       "      <td>2.95</td>\n",
       "      <td>2,951</td>\n",
       "    </tr>\n",
       "    <tr>\n",
       "      <th>1997-06-01</th>\n",
       "      <td>1997 Jun</td>\n",
       "      <td>4.96</td>\n",
       "      <td>4,959</td>\n",
       "    </tr>\n",
       "    <tr>\n",
       "      <th>1997-07-01</th>\n",
       "      <td>1997 Jul</td>\n",
       "      <td>0.54</td>\n",
       "      <td>535</td>\n",
       "    </tr>\n",
       "    <tr>\n",
       "      <th>1997-08-01</th>\n",
       "      <td>1997 Aug</td>\n",
       "      <td>2.83</td>\n",
       "      <td>2,830</td>\n",
       "    </tr>\n",
       "    <tr>\n",
       "      <th>...</th>\n",
       "      <td>...</td>\n",
       "      <td>...</td>\n",
       "      <td>...</td>\n",
       "    </tr>\n",
       "    <tr>\n",
       "      <th>2024-12-01</th>\n",
       "      <td>2024 Dec</td>\n",
       "      <td>18.52</td>\n",
       "      <td>18,524</td>\n",
       "    </tr>\n",
       "    <tr>\n",
       "      <th>2025-01-01</th>\n",
       "      <td>2025 Jan</td>\n",
       "      <td>-14.91</td>\n",
       "      <td>-14,908</td>\n",
       "    </tr>\n",
       "    <tr>\n",
       "      <th>2025-02-01</th>\n",
       "      <td>2025 Feb</td>\n",
       "      <td>11.80</td>\n",
       "      <td>11,801</td>\n",
       "    </tr>\n",
       "    <tr>\n",
       "      <th>2025-03-01</th>\n",
       "      <td>2025 Mar</td>\n",
       "      <td>14.14</td>\n",
       "      <td>14,139</td>\n",
       "    </tr>\n",
       "    <tr>\n",
       "      <th>2025-04-01</th>\n",
       "      <td>2025 Apr</td>\n",
       "      <td>20.16</td>\n",
       "      <td>20,155</td>\n",
       "    </tr>\n",
       "  </tbody>\n",
       "</table>\n",
       "<p>337 rows × 3 columns</p>\n",
       "</div>"
      ],
      "text/plain": [
       "                date  net_borrowing_excluding_public_sector  \\\n",
       "month_date                                                    \n",
       "1997-04-01  1997 Apr                                   2.91   \n",
       "1997-05-01  1997 May                                   2.95   \n",
       "1997-06-01  1997 Jun                                   4.96   \n",
       "1997-07-01  1997 Jul                                   0.54   \n",
       "1997-08-01  1997 Aug                                   2.83   \n",
       "...              ...                                    ...   \n",
       "2024-12-01  2024 Dec                                  18.52   \n",
       "2025-01-01  2025 Jan                                 -14.91   \n",
       "2025-02-01  2025 Feb                                  11.80   \n",
       "2025-03-01  2025 Mar                                  14.14   \n",
       "2025-04-01  2025 Apr                                  20.16   \n",
       "\n",
       "           net_borrowing_including _public_sector  \n",
       "month_date                                         \n",
       "1997-04-01                                  2,908  \n",
       "1997-05-01                                  2,951  \n",
       "1997-06-01                                  4,959  \n",
       "1997-07-01                                    535  \n",
       "1997-08-01                                  2,830  \n",
       "...                                           ...  \n",
       "2024-12-01                                 18,524  \n",
       "2025-01-01                                -14,908  \n",
       "2025-02-01                                 11,801  \n",
       "2025-03-01                                 14,139  \n",
       "2025-04-01                                 20,155  \n",
       "\n",
       "[337 rows x 3 columns]"
      ]
     },
     "execution_count": 98,
     "metadata": {},
     "output_type": "execute_result"
    }
   ],
   "source": [
    "df"
   ]
  },
  {
   "cell_type": "code",
   "execution_count": null,
   "id": "41a1e1a6-5f02-4fb9-b838-0aa549532492",
   "metadata": {},
   "outputs": [],
   "source": []
  },
  {
   "cell_type": "code",
   "execution_count": null,
   "id": "3add7835-476d-4149-aef5-1c6d45dddc8a",
   "metadata": {},
   "outputs": [],
   "source": []
  },
  {
   "cell_type": "code",
   "execution_count": 114,
   "id": "85616667-8f70-4200-8bc0-6ce6f01e3223",
   "metadata": {},
   "outputs": [],
   "source": [
    "# Assuming df is your original DataFrame and index is datetime\n",
    "df_april = df[(df.index.month == 4) & (df.index.year >= 2015)].copy()\n",
    "df_april['year'] = df_april.index.year  # Now safe, no warning\n"
   ]
  },
  {
   "cell_type": "code",
   "execution_count": 120,
   "id": "1976afd8-2e05-4325-a2bf-fe2ae67a4a7d",
   "metadata": {},
   "outputs": [
    {
     "data": {
      "text/html": [
       "<div>\n",
       "<style scoped>\n",
       "    .dataframe tbody tr th:only-of-type {\n",
       "        vertical-align: middle;\n",
       "    }\n",
       "\n",
       "    .dataframe tbody tr th {\n",
       "        vertical-align: top;\n",
       "    }\n",
       "\n",
       "    .dataframe thead th {\n",
       "        text-align: right;\n",
       "    }\n",
       "</style>\n",
       "<table border=\"1\" class=\"dataframe\">\n",
       "  <thead>\n",
       "    <tr style=\"text-align: right;\">\n",
       "      <th></th>\n",
       "      <th>date</th>\n",
       "      <th>net_borrowing_excluding_public_sector</th>\n",
       "      <th>net_borrowing_including _public_sector</th>\n",
       "      <th>year</th>\n",
       "      <th>net_borrowing_billion</th>\n",
       "    </tr>\n",
       "    <tr>\n",
       "      <th>month_date</th>\n",
       "      <th></th>\n",
       "      <th></th>\n",
       "      <th></th>\n",
       "      <th></th>\n",
       "      <th></th>\n",
       "    </tr>\n",
       "  </thead>\n",
       "  <tbody>\n",
       "    <tr>\n",
       "      <th>2015-04-01</th>\n",
       "      <td>2015 Apr</td>\n",
       "      <td>12.10</td>\n",
       "      <td>11,496</td>\n",
       "      <td>2015</td>\n",
       "      <td>0.01210</td>\n",
       "    </tr>\n",
       "    <tr>\n",
       "      <th>2016-04-01</th>\n",
       "      <td>2016 Apr</td>\n",
       "      <td>12.29</td>\n",
       "      <td>11,571</td>\n",
       "      <td>2016</td>\n",
       "      <td>0.01229</td>\n",
       "    </tr>\n",
       "    <tr>\n",
       "      <th>2017-04-01</th>\n",
       "      <td>2017 Apr</td>\n",
       "      <td>12.69</td>\n",
       "      <td>11,082</td>\n",
       "      <td>2017</td>\n",
       "      <td>0.01269</td>\n",
       "    </tr>\n",
       "    <tr>\n",
       "      <th>2018-04-01</th>\n",
       "      <td>2018 Apr</td>\n",
       "      <td>10.17</td>\n",
       "      <td>9,522</td>\n",
       "      <td>2018</td>\n",
       "      <td>0.01017</td>\n",
       "    </tr>\n",
       "    <tr>\n",
       "      <th>2019-04-01</th>\n",
       "      <td>2019 Apr</td>\n",
       "      <td>11.40</td>\n",
       "      <td>11,525</td>\n",
       "      <td>2019</td>\n",
       "      <td>0.01140</td>\n",
       "    </tr>\n",
       "    <tr>\n",
       "      <th>2020-04-01</th>\n",
       "      <td>2020 Apr</td>\n",
       "      <td>49.32</td>\n",
       "      <td>48,481</td>\n",
       "      <td>2020</td>\n",
       "      <td>0.04932</td>\n",
       "    </tr>\n",
       "    <tr>\n",
       "      <th>2021-04-01</th>\n",
       "      <td>2021 Apr</td>\n",
       "      <td>23.69</td>\n",
       "      <td>22,924</td>\n",
       "      <td>2021</td>\n",
       "      <td>0.02369</td>\n",
       "    </tr>\n",
       "    <tr>\n",
       "      <th>2022-04-01</th>\n",
       "      <td>2022 Apr</td>\n",
       "      <td>13.57</td>\n",
       "      <td>12,721</td>\n",
       "      <td>2022</td>\n",
       "      <td>0.01357</td>\n",
       "    </tr>\n",
       "    <tr>\n",
       "      <th>2023-04-01</th>\n",
       "      <td>2023 Apr</td>\n",
       "      <td>19.97</td>\n",
       "      <td>19,045</td>\n",
       "      <td>2023</td>\n",
       "      <td>0.01997</td>\n",
       "    </tr>\n",
       "    <tr>\n",
       "      <th>2024-04-01</th>\n",
       "      <td>2024 Apr</td>\n",
       "      <td>19.14</td>\n",
       "      <td>18,543</td>\n",
       "      <td>2024</td>\n",
       "      <td>0.01914</td>\n",
       "    </tr>\n",
       "    <tr>\n",
       "      <th>2025-04-01</th>\n",
       "      <td>2025 Apr</td>\n",
       "      <td>20.16</td>\n",
       "      <td>20,155</td>\n",
       "      <td>2025</td>\n",
       "      <td>0.02016</td>\n",
       "    </tr>\n",
       "  </tbody>\n",
       "</table>\n",
       "</div>"
      ],
      "text/plain": [
       "                date  net_borrowing_excluding_public_sector  \\\n",
       "month_date                                                    \n",
       "2015-04-01  2015 Apr                                  12.10   \n",
       "2016-04-01  2016 Apr                                  12.29   \n",
       "2017-04-01  2017 Apr                                  12.69   \n",
       "2018-04-01  2018 Apr                                  10.17   \n",
       "2019-04-01  2019 Apr                                  11.40   \n",
       "2020-04-01  2020 Apr                                  49.32   \n",
       "2021-04-01  2021 Apr                                  23.69   \n",
       "2022-04-01  2022 Apr                                  13.57   \n",
       "2023-04-01  2023 Apr                                  19.97   \n",
       "2024-04-01  2024 Apr                                  19.14   \n",
       "2025-04-01  2025 Apr                                  20.16   \n",
       "\n",
       "           net_borrowing_including _public_sector  year  net_borrowing_billion  \n",
       "month_date                                                                      \n",
       "2015-04-01                                 11,496  2015                0.01210  \n",
       "2016-04-01                                 11,571  2016                0.01229  \n",
       "2017-04-01                                 11,082  2017                0.01269  \n",
       "2018-04-01                                  9,522  2018                0.01017  \n",
       "2019-04-01                                 11,525  2019                0.01140  \n",
       "2020-04-01                                 48,481  2020                0.04932  \n",
       "2021-04-01                                 22,924  2021                0.02369  \n",
       "2022-04-01                                 12,721  2022                0.01357  \n",
       "2023-04-01                                 19,045  2023                0.01997  \n",
       "2024-04-01                                 18,543  2024                0.01914  \n",
       "2025-04-01                                 20,155  2025                0.02016  "
      ]
     },
     "execution_count": 120,
     "metadata": {},
     "output_type": "execute_result"
    }
   ],
   "source": [
    "df_april"
   ]
  },
  {
   "cell_type": "code",
   "execution_count": null,
   "id": "96def7d7-c514-4e82-b3c7-f316246e7d5f",
   "metadata": {},
   "outputs": [],
   "source": []
  },
  {
   "cell_type": "code",
   "execution_count": null,
   "id": "abd692a6-a027-4d6f-bf83-6da1d25e81a3",
   "metadata": {},
   "outputs": [],
   "source": []
  },
  {
   "cell_type": "code",
   "execution_count": null,
   "id": "cf332ce9-9c37-4daf-aabb-c45dbc686450",
   "metadata": {},
   "outputs": [],
   "source": []
  },
  {
   "cell_type": "code",
   "execution_count": 122,
   "id": "40abc743-850f-4d74-92d2-d78c288202ae",
   "metadata": {},
   "outputs": [
    {
     "data": {
      "application/vnd.plotly.v1+json": {
       "config": {
        "plotlyServerURL": "https://plot.ly"
       },
       "data": [
        {
         "alignmentgroup": "True",
         "hovertemplate": "year=%{x}<br>net_borrowing_billion=%{text}<extra></extra>",
         "legendgroup": "",
         "marker": {
          "color": "#007acc",
          "line": {
           "width": 0
          },
          "opacity": 0.9,
          "pattern": {
           "shape": ""
          }
         },
         "name": "",
         "offsetgroup": "",
         "orientation": "v",
         "showlegend": false,
         "text": [
          12.1,
          12.29,
          12.69,
          10.17,
          11.4,
          49.32,
          23.69,
          13.57,
          19.97,
          19.14,
          20.16
         ],
         "textposition": "inside",
         "texttemplate": "£%{text}B",
         "type": "bar",
         "x": [
          2015,
          2016,
          2017,
          2018,
          2019,
          2020,
          2021,
          2022,
          2023,
          2024,
          2025
         ],
         "xaxis": "x",
         "y": [
          12.1,
          12.29,
          12.69,
          10.17,
          11.4,
          49.32,
          23.69,
          13.57,
          19.97,
          19.14,
          20.16
         ],
         "yaxis": "y"
        }
       ],
       "layout": {
        "autosize": true,
        "bargap": 0.3,
        "barmode": "relative",
        "font": {
         "family": "Arial",
         "size": 14
        },
        "legend": {
         "tracegroupgap": 0
        },
        "margin": {
         "b": 40,
         "l": 60,
         "r": 40,
         "t": 60
        },
        "paper_bgcolor": "white",
        "plot_bgcolor": "white",
        "template": {
         "data": {
          "candlestick": [
           {
            "decreasing": {
             "line": {
              "color": "#000033"
             }
            },
            "increasing": {
             "line": {
              "color": "#000032"
             }
            },
            "type": "candlestick"
           }
          ],
          "contour": [
           {
            "colorscale": [
             [
              0,
              "#000011"
             ],
             [
              0.1111111111111111,
              "#000012"
             ],
             [
              0.2222222222222222,
              "#000013"
             ],
             [
              0.3333333333333333,
              "#000014"
             ],
             [
              0.4444444444444444,
              "#000015"
             ],
             [
              0.5555555555555556,
              "#000016"
             ],
             [
              0.6666666666666666,
              "#000017"
             ],
             [
              0.7777777777777778,
              "#000018"
             ],
             [
              0.8888888888888888,
              "#000019"
             ],
             [
              1,
              "#000020"
             ]
            ],
            "type": "contour"
           }
          ],
          "contourcarpet": [
           {
            "colorscale": [
             [
              0,
              "#000011"
             ],
             [
              0.1111111111111111,
              "#000012"
             ],
             [
              0.2222222222222222,
              "#000013"
             ],
             [
              0.3333333333333333,
              "#000014"
             ],
             [
              0.4444444444444444,
              "#000015"
             ],
             [
              0.5555555555555556,
              "#000016"
             ],
             [
              0.6666666666666666,
              "#000017"
             ],
             [
              0.7777777777777778,
              "#000018"
             ],
             [
              0.8888888888888888,
              "#000019"
             ],
             [
              1,
              "#000020"
             ]
            ],
            "type": "contourcarpet"
           }
          ],
          "heatmap": [
           {
            "colorscale": [
             [
              0,
              "#000011"
             ],
             [
              0.1111111111111111,
              "#000012"
             ],
             [
              0.2222222222222222,
              "#000013"
             ],
             [
              0.3333333333333333,
              "#000014"
             ],
             [
              0.4444444444444444,
              "#000015"
             ],
             [
              0.5555555555555556,
              "#000016"
             ],
             [
              0.6666666666666666,
              "#000017"
             ],
             [
              0.7777777777777778,
              "#000018"
             ],
             [
              0.8888888888888888,
              "#000019"
             ],
             [
              1,
              "#000020"
             ]
            ],
            "type": "heatmap"
           }
          ],
          "histogram2d": [
           {
            "colorscale": [
             [
              0,
              "#000011"
             ],
             [
              0.1111111111111111,
              "#000012"
             ],
             [
              0.2222222222222222,
              "#000013"
             ],
             [
              0.3333333333333333,
              "#000014"
             ],
             [
              0.4444444444444444,
              "#000015"
             ],
             [
              0.5555555555555556,
              "#000016"
             ],
             [
              0.6666666666666666,
              "#000017"
             ],
             [
              0.7777777777777778,
              "#000018"
             ],
             [
              0.8888888888888888,
              "#000019"
             ],
             [
              1,
              "#000020"
             ]
            ],
            "type": "histogram2d"
           }
          ],
          "icicle": [
           {
            "textfont": {
             "color": "white"
            },
            "type": "icicle"
           }
          ],
          "sankey": [
           {
            "textfont": {
             "color": "#000036"
            },
            "type": "sankey"
           }
          ],
          "scatter": [
           {
            "marker": {
             "line": {
              "width": 0
             }
            },
            "type": "scatter"
           }
          ],
          "table": [
           {
            "cells": {
             "fill": {
              "color": "#000038"
             },
             "font": {
              "color": "#000037"
             },
             "line": {
              "color": "#000039"
             }
            },
            "header": {
             "fill": {
              "color": "#000040"
             },
             "font": {
              "color": "#000036"
             },
             "line": {
              "color": "#000039"
             }
            },
            "type": "table"
           }
          ],
          "waterfall": [
           {
            "connector": {
             "line": {
              "color": "#000036",
              "width": 2
             }
            },
            "decreasing": {
             "marker": {
              "color": "#000033"
             }
            },
            "increasing": {
             "marker": {
              "color": "#000032"
             }
            },
            "totals": {
             "marker": {
              "color": "#000034"
             }
            },
            "type": "waterfall"
           }
          ]
         },
         "layout": {
          "coloraxis": {
           "colorscale": [
            [
             0,
             "#000011"
            ],
            [
             0.1111111111111111,
             "#000012"
            ],
            [
             0.2222222222222222,
             "#000013"
            ],
            [
             0.3333333333333333,
             "#000014"
            ],
            [
             0.4444444444444444,
             "#000015"
            ],
            [
             0.5555555555555556,
             "#000016"
            ],
            [
             0.6666666666666666,
             "#000017"
            ],
            [
             0.7777777777777778,
             "#000018"
            ],
            [
             0.8888888888888888,
             "#000019"
            ],
            [
             1,
             "#000020"
            ]
           ]
          },
          "colorscale": {
           "diverging": [
            [
             0,
             "#000021"
            ],
            [
             0.1,
             "#000022"
            ],
            [
             0.2,
             "#000023"
            ],
            [
             0.3,
             "#000024"
            ],
            [
             0.4,
             "#000025"
            ],
            [
             0.5,
             "#000026"
            ],
            [
             0.6,
             "#000027"
            ],
            [
             0.7,
             "#000028"
            ],
            [
             0.8,
             "#000029"
            ],
            [
             0.9,
             "#000030"
            ],
            [
             1,
             "#000031"
            ]
           ],
           "sequential": [
            [
             0,
             "#000011"
            ],
            [
             0.1111111111111111,
             "#000012"
            ],
            [
             0.2222222222222222,
             "#000013"
            ],
            [
             0.3333333333333333,
             "#000014"
            ],
            [
             0.4444444444444444,
             "#000015"
            ],
            [
             0.5555555555555556,
             "#000016"
            ],
            [
             0.6666666666666666,
             "#000017"
            ],
            [
             0.7777777777777778,
             "#000018"
            ],
            [
             0.8888888888888888,
             "#000019"
            ],
            [
             1,
             "#000020"
            ]
           ],
           "sequentialminus": [
            [
             0,
             "#000011"
            ],
            [
             0.1111111111111111,
             "#000012"
            ],
            [
             0.2222222222222222,
             "#000013"
            ],
            [
             0.3333333333333333,
             "#000014"
            ],
            [
             0.4444444444444444,
             "#000015"
            ],
            [
             0.5555555555555556,
             "#000016"
            ],
            [
             0.6666666666666666,
             "#000017"
            ],
            [
             0.7777777777777778,
             "#000018"
            ],
            [
             0.8888888888888888,
             "#000019"
            ],
            [
             1,
             "#000020"
            ]
           ]
          },
          "colorway": [
           "#000001",
           "#000002",
           "#000003",
           "#000004",
           "#000005",
           "#000006",
           "#000007",
           "#000008",
           "#000009",
           "#000010"
          ]
         }
        },
        "title": {
         "font": {
          "color": "#333",
          "family": "Arial Black",
          "size": 20
         },
         "text": "💰📊 Net Borrowing in April (2015–Present) 📅"
        },
        "uniformtext": {
         "minsize": 12,
         "mode": "show"
        },
        "xaxis": {
         "anchor": "y",
         "autorange": true,
         "domain": [
          0,
          1
         ],
         "range": [
          2014.5,
          2025.5
         ],
         "showgrid": false,
         "title": {
          "text": "Year"
         },
         "type": "linear"
        },
        "yaxis": {
         "anchor": "x",
         "autorange": true,
         "domain": [
          0,
          1
         ],
         "range": [
          0,
          51.915789473684214
         ],
         "showgrid": false,
         "title": {
          "text": "Borrowing (£ Billions)"
         },
         "type": "linear"
        }
       }
      },
      "image/png": "[encoded data removed]",
      "text/html": [
       "<div>                            <div id=\"1cc486fc-a7e9-45b5-9047-743433cdf0e7\" class=\"plotly-graph-div\" style=\"height:525px; width:100%;\"></div>            <script type=\"text/javascript\">                require([\"plotly\"], function(Plotly) {                    window.PLOTLYENV=window.PLOTLYENV || {};                                    if (document.getElementById(\"1cc486fc-a7e9-45b5-9047-743433cdf0e7\")) {                    Plotly.newPlot(                        \"1cc486fc-a7e9-45b5-9047-743433cdf0e7\",                        [{\"alignmentgroup\":\"True\",\"hovertemplate\":\"year=%{x}<br>net_borrowing_billion=%{text}<extra></extra>\",\"legendgroup\":\"\",\"marker\":{\"color\":\"#007acc\",\"pattern\":{\"shape\":\"\"},\"line\":{\"width\":0},\"opacity\":0.9},\"name\":\"\",\"offsetgroup\":\"\",\"orientation\":\"v\",\"showlegend\":false,\"text\":[12.1,12.29,12.69,10.17,11.4,49.32,23.69,13.57,19.97,19.14,20.16],\"textposition\":\"inside\",\"x\":[2015,2016,2017,2018,2019,2020,2021,2022,2023,2024,2025],\"xaxis\":\"x\",\"y\":[12.1,12.29,12.69,10.17,11.4,49.32,23.69,13.57,19.97,19.14,20.16],\"yaxis\":\"y\",\"type\":\"bar\",\"texttemplate\":\"\\u00a3%{text}B\"}],                        {\"template\":{\"data\":{\"candlestick\":[{\"decreasing\":{\"line\":{\"color\":\"#000033\"}},\"increasing\":{\"line\":{\"color\":\"#000032\"}},\"type\":\"candlestick\"}],\"contourcarpet\":[{\"colorscale\":[[0.0,\"#000011\"],[0.1111111111111111,\"#000012\"],[0.2222222222222222,\"#000013\"],[0.3333333333333333,\"#000014\"],[0.4444444444444444,\"#000015\"],[0.5555555555555556,\"#000016\"],[0.6666666666666666,\"#000017\"],[0.7777777777777778,\"#000018\"],[0.8888888888888888,\"#000019\"],[1.0,\"#000020\"]],\"type\":\"contourcarpet\"}],\"contour\":[{\"colorscale\":[[0.0,\"#000011\"],[0.1111111111111111,\"#000012\"],[0.2222222222222222,\"#000013\"],[0.3333333333333333,\"#000014\"],[0.4444444444444444,\"#000015\"],[0.5555555555555556,\"#000016\"],[0.6666666666666666,\"#000017\"],[0.7777777777777778,\"#000018\"],[0.8888888888888888,\"#000019\"],[1.0,\"#000020\"]],\"type\":\"contour\"}],\"heatmap\":[{\"colorscale\":[[0.0,\"#000011\"],[0.1111111111111111,\"#000012\"],[0.2222222222222222,\"#000013\"],[0.3333333333333333,\"#000014\"],[0.4444444444444444,\"#000015\"],[0.5555555555555556,\"#000016\"],[0.6666666666666666,\"#000017\"],[0.7777777777777778,\"#000018\"],[0.8888888888888888,\"#000019\"],[1.0,\"#000020\"]],\"type\":\"heatmap\"}],\"histogram2d\":[{\"colorscale\":[[0.0,\"#000011\"],[0.1111111111111111,\"#000012\"],[0.2222222222222222,\"#000013\"],[0.3333333333333333,\"#000014\"],[0.4444444444444444,\"#000015\"],[0.5555555555555556,\"#000016\"],[0.6666666666666666,\"#000017\"],[0.7777777777777778,\"#000018\"],[0.8888888888888888,\"#000019\"],[1.0,\"#000020\"]],\"type\":\"histogram2d\"}],\"icicle\":[{\"textfont\":{\"color\":\"white\"},\"type\":\"icicle\"}],\"sankey\":[{\"textfont\":{\"color\":\"#000036\"},\"type\":\"sankey\"}],\"scatter\":[{\"marker\":{\"line\":{\"width\":0}},\"type\":\"scatter\"}],\"table\":[{\"cells\":{\"fill\":{\"color\":\"#000038\"},\"font\":{\"color\":\"#000037\"},\"line\":{\"color\":\"#000039\"}},\"header\":{\"fill\":{\"color\":\"#000040\"},\"font\":{\"color\":\"#000036\"},\"line\":{\"color\":\"#000039\"}},\"type\":\"table\"}],\"waterfall\":[{\"connector\":{\"line\":{\"color\":\"#000036\",\"width\":2}},\"decreasing\":{\"marker\":{\"color\":\"#000033\"}},\"increasing\":{\"marker\":{\"color\":\"#000032\"}},\"totals\":{\"marker\":{\"color\":\"#000034\"}},\"type\":\"waterfall\"}]},\"layout\":{\"coloraxis\":{\"colorscale\":[[0.0,\"#000011\"],[0.1111111111111111,\"#000012\"],[0.2222222222222222,\"#000013\"],[0.3333333333333333,\"#000014\"],[0.4444444444444444,\"#000015\"],[0.5555555555555556,\"#000016\"],[0.6666666666666666,\"#000017\"],[0.7777777777777778,\"#000018\"],[0.8888888888888888,\"#000019\"],[1.0,\"#000020\"]]},\"colorscale\":{\"diverging\":[[0.0,\"#000021\"],[0.1,\"#000022\"],[0.2,\"#000023\"],[0.3,\"#000024\"],[0.4,\"#000025\"],[0.5,\"#000026\"],[0.6,\"#000027\"],[0.7,\"#000028\"],[0.8,\"#000029\"],[0.9,\"#000030\"],[1.0,\"#000031\"]],\"sequential\":[[0.0,\"#000011\"],[0.1111111111111111,\"#000012\"],[0.2222222222222222,\"#000013\"],[0.3333333333333333,\"#000014\"],[0.4444444444444444,\"#000015\"],[0.5555555555555556,\"#000016\"],[0.6666666666666666,\"#000017\"],[0.7777777777777778,\"#000018\"],[0.8888888888888888,\"#000019\"],[1.0,\"#000020\"]],\"sequentialminus\":[[0.0,\"#000011\"],[0.1111111111111111,\"#000012\"],[0.2222222222222222,\"#000013\"],[0.3333333333333333,\"#000014\"],[0.4444444444444444,\"#000015\"],[0.5555555555555556,\"#000016\"],[0.6666666666666666,\"#000017\"],[0.7777777777777778,\"#000018\"],[0.8888888888888888,\"#000019\"],[1.0,\"#000020\"]]},\"colorway\":[\"#000001\",\"#000002\",\"#000003\",\"#000004\",\"#000005\",\"#000006\",\"#000007\",\"#000008\",\"#000009\",\"#000010\"]}},\"xaxis\":{\"anchor\":\"y\",\"domain\":[0.0,1.0],\"title\":{\"text\":\"Year\"},\"showgrid\":false},\"yaxis\":{\"anchor\":\"x\",\"domain\":[0.0,1.0],\"title\":{\"text\":\"Borrowing (\\u00a3 Billions)\"},\"showgrid\":false},\"legend\":{\"tracegroupgap\":0},\"title\":{\"text\":\"\\ud83d\\udcb0\\ud83d\\udcca Net Borrowing in April (2015\\u2013Present) \\ud83d\\udcc5\",\"font\":{\"size\":20,\"family\":\"Arial Black\",\"color\":\"#333\"}},\"barmode\":\"relative\",\"font\":{\"size\":14,\"family\":\"Arial\"},\"uniformtext\":{\"minsize\":12,\"mode\":\"show\"},\"margin\":{\"t\":60,\"b\":40,\"l\":60,\"r\":40},\"plot_bgcolor\":\"white\",\"paper_bgcolor\":\"white\",\"bargap\":0.3},                        {\"responsive\": true}                    ).then(function(){\n",
       "                            \n",
       "var gd = document.getElementById('1cc486fc-a7e9-45b5-9047-743433cdf0e7');\n",
       "var x = new MutationObserver(function (mutations, observer) {{\n",
       "        var display = window.getComputedStyle(gd).display;\n",
       "        if (!display || display === 'none') {{\n",
       "            console.log([gd, 'removed!']);\n",
       "            Plotly.purge(gd);\n",
       "            observer.disconnect();\n",
       "        }}\n",
       "}});\n",
       "\n",
       "// Listen for the removal of the full notebook cells\n",
       "var notebookContainer = gd.closest('#notebook-container');\n",
       "if (notebookContainer) {{\n",
       "    x.observe(notebookContainer, {childList: true});\n",
       "}}\n",
       "\n",
       "// Listen for the clearing of the current output cell\n",
       "var outputEl = gd.closest('.output');\n",
       "if (outputEl) {{\n",
       "    x.observe(outputEl, {childList: true});\n",
       "}}\n",
       "\n",
       "                        })                };                });            </script>        </div>"
      ]
     },
     "metadata": {},
     "output_type": "display_data"
    }
   ],
   "source": [
    "import pandas as pd\n",
    "import plotly.express as px\n",
    "\n",
    "# Step 1: Make a copy to avoid SettingWithCopyWarning\n",
    "df_april = df_april.copy()\n",
    "\n",
    "# Step 2: Convert net borrowing to billions (no rounding)\n",
    "df_april['net_borrowing_billion'] = df_april['net_borrowing_excluding_public_sector']\n",
    "\n",
    "# Step 3: Create the Plotly bar chart\n",
    "fig = px.bar(\n",
    "    df_april,\n",
    "    x='year',\n",
    "    y='net_borrowing_billion',\n",
    "    text='net_borrowing_billion',\n",
    "    title='💰📊 Net Borrowing in April (2015–Present) 📅',\n",
    "    color_discrete_sequence=['#007acc']\n",
    ")\n",
    "\n",
    "# Step 4: Style the numbers on the bars\n",
    "fig.update_traces(\n",
    "    texttemplate='£%{text}B',\n",
    "    textposition='inside',\n",
    "    marker_line_width=0,\n",
    "    marker_opacity=0.9\n",
    ")\n",
    "\n",
    "# Step 5: Remove gridlines and apply final styling\n",
    "fig.update_layout(\n",
    "    font=dict(size=14, family='Arial'),\n",
    "    plot_bgcolor='white',\n",
    "    paper_bgcolor='white',\n",
    "    xaxis_title='Year',\n",
    "    yaxis_title='Borrowing (£ Billions)',\n",
    "    title_font=dict(size=20, family='Arial Black', color='#333'),\n",
    "    uniformtext_minsize=12,\n",
    "    uniformtext_mode='show',\n",
    "    bargap=0.3,\n",
    "    margin=dict(t=60, b=40, l=60, r=40),\n",
    "    xaxis=dict(showgrid=False),\n",
    "    yaxis=dict(showgrid=False)\n",
    ")\n",
    "\n",
    "fig.show()\n"
   ]
  },
  {
   "cell_type": "code",
   "execution_count": 131,
   "id": "eed36502-0a87-4209-8833-201ecd09e8e2",
   "metadata": {},
   "outputs": [
    {
     "data": {
      "text/html": [
       "<div>\n",
       "<style scoped>\n",
       "    .dataframe tbody tr th:only-of-type {\n",
       "        vertical-align: middle;\n",
       "    }\n",
       "\n",
       "    .dataframe tbody tr th {\n",
       "        vertical-align: top;\n",
       "    }\n",
       "\n",
       "    .dataframe thead th {\n",
       "        text-align: right;\n",
       "    }\n",
       "</style>\n",
       "<table border=\"1\" class=\"dataframe\">\n",
       "  <thead>\n",
       "    <tr style=\"text-align: right;\">\n",
       "      <th></th>\n",
       "      <th>date</th>\n",
       "      <th>net_borrowing_excluding_public_sector</th>\n",
       "      <th>net_borrowing_including _public_sector</th>\n",
       "      <th>monthly_pct_change</th>\n",
       "      <th>prev</th>\n",
       "      <th>manual_pct_change</th>\n",
       "    </tr>\n",
       "    <tr>\n",
       "      <th>month_date</th>\n",
       "      <th></th>\n",
       "      <th></th>\n",
       "      <th></th>\n",
       "      <th></th>\n",
       "      <th></th>\n",
       "      <th></th>\n",
       "    </tr>\n",
       "  </thead>\n",
       "  <tbody>\n",
       "    <tr>\n",
       "      <th>2023-01-01</th>\n",
       "      <td>2023 Jan</td>\n",
       "      <td>-8.72</td>\n",
       "      <td>-9,645</td>\n",
       "      <td>NaN</td>\n",
       "      <td>NaN</td>\n",
       "      <td>NaN</td>\n",
       "    </tr>\n",
       "    <tr>\n",
       "      <th>2023-02-01</th>\n",
       "      <td>2023 Feb</td>\n",
       "      <td>10.80</td>\n",
       "      <td>9,873</td>\n",
       "      <td>-223.853211</td>\n",
       "      <td>-8.72</td>\n",
       "      <td>-223.853211</td>\n",
       "    </tr>\n",
       "    <tr>\n",
       "      <th>2023-03-01</th>\n",
       "      <td>2023 Mar</td>\n",
       "      <td>17.46</td>\n",
       "      <td>16,536</td>\n",
       "      <td>61.666667</td>\n",
       "      <td>10.80</td>\n",
       "      <td>61.666667</td>\n",
       "    </tr>\n",
       "    <tr>\n",
       "      <th>2023-04-01</th>\n",
       "      <td>2023 Apr</td>\n",
       "      <td>19.97</td>\n",
       "      <td>19,045</td>\n",
       "      <td>14.375716</td>\n",
       "      <td>17.46</td>\n",
       "      <td>14.375716</td>\n",
       "    </tr>\n",
       "    <tr>\n",
       "      <th>2023-05-01</th>\n",
       "      <td>2023 May</td>\n",
       "      <td>15.36</td>\n",
       "      <td>14,829</td>\n",
       "      <td>-23.084627</td>\n",
       "      <td>19.97</td>\n",
       "      <td>-23.084627</td>\n",
       "    </tr>\n",
       "    <tr>\n",
       "      <th>2023-06-01</th>\n",
       "      <td>2023 Jun</td>\n",
       "      <td>19.06</td>\n",
       "      <td>18,139</td>\n",
       "      <td>24.088542</td>\n",
       "      <td>15.36</td>\n",
       "      <td>24.088542</td>\n",
       "    </tr>\n",
       "    <tr>\n",
       "      <th>2023-07-01</th>\n",
       "      <td>2023 Jul</td>\n",
       "      <td>2.14</td>\n",
       "      <td>1,163</td>\n",
       "      <td>-88.772298</td>\n",
       "      <td>19.06</td>\n",
       "      <td>-88.772298</td>\n",
       "    </tr>\n",
       "    <tr>\n",
       "      <th>2023-08-01</th>\n",
       "      <td>2023 Aug</td>\n",
       "      <td>11.32</td>\n",
       "      <td>10,335</td>\n",
       "      <td>428.971963</td>\n",
       "      <td>2.14</td>\n",
       "      <td>428.971963</td>\n",
       "    </tr>\n",
       "    <tr>\n",
       "      <th>2023-09-01</th>\n",
       "      <td>2023 Sep</td>\n",
       "      <td>15.30</td>\n",
       "      <td>14,513</td>\n",
       "      <td>35.159011</td>\n",
       "      <td>11.32</td>\n",
       "      <td>35.159011</td>\n",
       "    </tr>\n",
       "    <tr>\n",
       "      <th>2023-10-01</th>\n",
       "      <td>2023 Oct</td>\n",
       "      <td>16.21</td>\n",
       "      <td>15,224</td>\n",
       "      <td>5.947712</td>\n",
       "      <td>15.30</td>\n",
       "      <td>5.947712</td>\n",
       "    </tr>\n",
       "    <tr>\n",
       "      <th>2023-11-01</th>\n",
       "      <td>2023 Nov</td>\n",
       "      <td>14.72</td>\n",
       "      <td>13,739</td>\n",
       "      <td>-9.191857</td>\n",
       "      <td>16.21</td>\n",
       "      <td>-9.191857</td>\n",
       "    </tr>\n",
       "    <tr>\n",
       "      <th>2023-12-01</th>\n",
       "      <td>2023 Dec</td>\n",
       "      <td>7.78</td>\n",
       "      <td>6,797</td>\n",
       "      <td>-47.146739</td>\n",
       "      <td>14.72</td>\n",
       "      <td>-47.146739</td>\n",
       "    </tr>\n",
       "    <tr>\n",
       "      <th>2024-01-01</th>\n",
       "      <td>2024 Jan</td>\n",
       "      <td>-15.00</td>\n",
       "      <td>-15,910</td>\n",
       "      <td>-292.802057</td>\n",
       "      <td>7.78</td>\n",
       "      <td>-292.802057</td>\n",
       "    </tr>\n",
       "    <tr>\n",
       "      <th>2024-02-01</th>\n",
       "      <td>2024 Feb</td>\n",
       "      <td>10.63</td>\n",
       "      <td>9,720</td>\n",
       "      <td>-170.866667</td>\n",
       "      <td>-15.00</td>\n",
       "      <td>-170.866667</td>\n",
       "    </tr>\n",
       "    <tr>\n",
       "      <th>2024-03-01</th>\n",
       "      <td>2024 Mar</td>\n",
       "      <td>13.57</td>\n",
       "      <td>12,664</td>\n",
       "      <td>27.657573</td>\n",
       "      <td>10.63</td>\n",
       "      <td>27.657573</td>\n",
       "    </tr>\n",
       "    <tr>\n",
       "      <th>2024-04-01</th>\n",
       "      <td>2024 Apr</td>\n",
       "      <td>19.14</td>\n",
       "      <td>18,543</td>\n",
       "      <td>41.046426</td>\n",
       "      <td>13.57</td>\n",
       "      <td>41.046426</td>\n",
       "    </tr>\n",
       "    <tr>\n",
       "      <th>2024-05-01</th>\n",
       "      <td>2024 May</td>\n",
       "      <td>17.08</td>\n",
       "      <td>16,168</td>\n",
       "      <td>-10.762800</td>\n",
       "      <td>19.14</td>\n",
       "      <td>-10.762800</td>\n",
       "    </tr>\n",
       "    <tr>\n",
       "      <th>2024-06-01</th>\n",
       "      <td>2024 Jun</td>\n",
       "      <td>14.14</td>\n",
       "      <td>14,135</td>\n",
       "      <td>-17.213115</td>\n",
       "      <td>17.08</td>\n",
       "      <td>-17.213115</td>\n",
       "    </tr>\n",
       "    <tr>\n",
       "      <th>2024-07-01</th>\n",
       "      <td>2024 Jul</td>\n",
       "      <td>3.38</td>\n",
       "      <td>3,379</td>\n",
       "      <td>-76.096181</td>\n",
       "      <td>14.14</td>\n",
       "      <td>-76.096181</td>\n",
       "    </tr>\n",
       "    <tr>\n",
       "      <th>2024-08-01</th>\n",
       "      <td>2024 Aug</td>\n",
       "      <td>14.32</td>\n",
       "      <td>14,323</td>\n",
       "      <td>323.668639</td>\n",
       "      <td>3.38</td>\n",
       "      <td>323.668639</td>\n",
       "    </tr>\n",
       "    <tr>\n",
       "      <th>2024-09-01</th>\n",
       "      <td>2024 Sep</td>\n",
       "      <td>18.38</td>\n",
       "      <td>18,383</td>\n",
       "      <td>28.351955</td>\n",
       "      <td>14.32</td>\n",
       "      <td>28.351955</td>\n",
       "    </tr>\n",
       "    <tr>\n",
       "      <th>2024-10-01</th>\n",
       "      <td>2024 Oct</td>\n",
       "      <td>19.07</td>\n",
       "      <td>19,070</td>\n",
       "      <td>3.754081</td>\n",
       "      <td>18.38</td>\n",
       "      <td>3.754081</td>\n",
       "    </tr>\n",
       "    <tr>\n",
       "      <th>2024-11-01</th>\n",
       "      <td>2024 Nov</td>\n",
       "      <td>13.20</td>\n",
       "      <td>13,195</td>\n",
       "      <td>-30.781332</td>\n",
       "      <td>19.07</td>\n",
       "      <td>-30.781332</td>\n",
       "    </tr>\n",
       "    <tr>\n",
       "      <th>2024-12-01</th>\n",
       "      <td>2024 Dec</td>\n",
       "      <td>18.52</td>\n",
       "      <td>18,524</td>\n",
       "      <td>40.303030</td>\n",
       "      <td>13.20</td>\n",
       "      <td>40.303030</td>\n",
       "    </tr>\n",
       "    <tr>\n",
       "      <th>2025-01-01</th>\n",
       "      <td>2025 Jan</td>\n",
       "      <td>-14.91</td>\n",
       "      <td>-14,908</td>\n",
       "      <td>-180.507559</td>\n",
       "      <td>18.52</td>\n",
       "      <td>-180.507559</td>\n",
       "    </tr>\n",
       "    <tr>\n",
       "      <th>2025-02-01</th>\n",
       "      <td>2025 Feb</td>\n",
       "      <td>11.80</td>\n",
       "      <td>11,801</td>\n",
       "      <td>-179.141516</td>\n",
       "      <td>-14.91</td>\n",
       "      <td>-179.141516</td>\n",
       "    </tr>\n",
       "    <tr>\n",
       "      <th>2025-03-01</th>\n",
       "      <td>2025 Mar</td>\n",
       "      <td>14.14</td>\n",
       "      <td>14,139</td>\n",
       "      <td>19.830508</td>\n",
       "      <td>11.80</td>\n",
       "      <td>19.830508</td>\n",
       "    </tr>\n",
       "    <tr>\n",
       "      <th>2025-04-01</th>\n",
       "      <td>2025 Apr</td>\n",
       "      <td>20.16</td>\n",
       "      <td>20,155</td>\n",
       "      <td>42.574257</td>\n",
       "      <td>14.14</td>\n",
       "      <td>42.574257</td>\n",
       "    </tr>\n",
       "  </tbody>\n",
       "</table>\n",
       "</div>"
      ],
      "text/plain": [
       "                date  net_borrowing_excluding_public_sector  \\\n",
       "month_date                                                    \n",
       "2023-01-01  2023 Jan                                  -8.72   \n",
       "2023-02-01  2023 Feb                                  10.80   \n",
       "2023-03-01  2023 Mar                                  17.46   \n",
       "2023-04-01  2023 Apr                                  19.97   \n",
       "2023-05-01  2023 May                                  15.36   \n",
       "2023-06-01  2023 Jun                                  19.06   \n",
       "2023-07-01  2023 Jul                                   2.14   \n",
       "2023-08-01  2023 Aug                                  11.32   \n",
       "2023-09-01  2023 Sep                                  15.30   \n",
       "2023-10-01  2023 Oct                                  16.21   \n",
       "2023-11-01  2023 Nov                                  14.72   \n",
       "2023-12-01  2023 Dec                                   7.78   \n",
       "2024-01-01  2024 Jan                                 -15.00   \n",
       "2024-02-01  2024 Feb                                  10.63   \n",
       "2024-03-01  2024 Mar                                  13.57   \n",
       "2024-04-01  2024 Apr                                  19.14   \n",
       "2024-05-01  2024 May                                  17.08   \n",
       "2024-06-01  2024 Jun                                  14.14   \n",
       "2024-07-01  2024 Jul                                   3.38   \n",
       "2024-08-01  2024 Aug                                  14.32   \n",
       "2024-09-01  2024 Sep                                  18.38   \n",
       "2024-10-01  2024 Oct                                  19.07   \n",
       "2024-11-01  2024 Nov                                  13.20   \n",
       "2024-12-01  2024 Dec                                  18.52   \n",
       "2025-01-01  2025 Jan                                 -14.91   \n",
       "2025-02-01  2025 Feb                                  11.80   \n",
       "2025-03-01  2025 Mar                                  14.14   \n",
       "2025-04-01  2025 Apr                                  20.16   \n",
       "\n",
       "           net_borrowing_including _public_sector  monthly_pct_change   prev  \\\n",
       "month_date                                                                     \n",
       "2023-01-01                                 -9,645                 NaN    NaN   \n",
       "2023-02-01                                  9,873         -223.853211  -8.72   \n",
       "2023-03-01                                 16,536           61.666667  10.80   \n",
       "2023-04-01                                 19,045           14.375716  17.46   \n",
       "2023-05-01                                 14,829          -23.084627  19.97   \n",
       "2023-06-01                                 18,139           24.088542  15.36   \n",
       "2023-07-01                                  1,163          -88.772298  19.06   \n",
       "2023-08-01                                 10,335          428.971963   2.14   \n",
       "2023-09-01                                 14,513           35.159011  11.32   \n",
       "2023-10-01                                 15,224            5.947712  15.30   \n",
       "2023-11-01                                 13,739           -9.191857  16.21   \n",
       "2023-12-01                                  6,797          -47.146739  14.72   \n",
       "2024-01-01                                -15,910         -292.802057   7.78   \n",
       "2024-02-01                                  9,720         -170.866667 -15.00   \n",
       "2024-03-01                                 12,664           27.657573  10.63   \n",
       "2024-04-01                                 18,543           41.046426  13.57   \n",
       "2024-05-01                                 16,168          -10.762800  19.14   \n",
       "2024-06-01                                 14,135          -17.213115  17.08   \n",
       "2024-07-01                                  3,379          -76.096181  14.14   \n",
       "2024-08-01                                 14,323          323.668639   3.38   \n",
       "2024-09-01                                 18,383           28.351955  14.32   \n",
       "2024-10-01                                 19,070            3.754081  18.38   \n",
       "2024-11-01                                 13,195          -30.781332  19.07   \n",
       "2024-12-01                                 18,524           40.303030  13.20   \n",
       "2025-01-01                                -14,908         -180.507559  18.52   \n",
       "2025-02-01                                 11,801         -179.141516 -14.91   \n",
       "2025-03-01                                 14,139           19.830508  11.80   \n",
       "2025-04-01                                 20,155           42.574257  14.14   \n",
       "\n",
       "            manual_pct_change  \n",
       "month_date                     \n",
       "2023-01-01                NaN  \n",
       "2023-02-01        -223.853211  \n",
       "2023-03-01          61.666667  \n",
       "2023-04-01          14.375716  \n",
       "2023-05-01         -23.084627  \n",
       "2023-06-01          24.088542  \n",
       "2023-07-01         -88.772298  \n",
       "2023-08-01         428.971963  \n",
       "2023-09-01          35.159011  \n",
       "2023-10-01           5.947712  \n",
       "2023-11-01          -9.191857  \n",
       "2023-12-01         -47.146739  \n",
       "2024-01-01        -292.802057  \n",
       "2024-02-01        -170.866667  \n",
       "2024-03-01          27.657573  \n",
       "2024-04-01          41.046426  \n",
       "2024-05-01         -10.762800  \n",
       "2024-06-01         -17.213115  \n",
       "2024-07-01         -76.096181  \n",
       "2024-08-01         323.668639  \n",
       "2024-09-01          28.351955  \n",
       "2024-10-01           3.754081  \n",
       "2024-11-01         -30.781332  \n",
       "2024-12-01          40.303030  \n",
       "2025-01-01        -180.507559  \n",
       "2025-02-01        -179.141516  \n",
       "2025-03-01          19.830508  \n",
       "2025-04-01          42.574257  "
      ]
     },
     "execution_count": 131,
     "metadata": {},
     "output_type": "execute_result"
    }
   ],
   "source": [
    "df_brexit"
   ]
  },
  {
   "cell_type": "code",
   "execution_count": 135,
   "id": "14a06f3d-c5d9-4398-a26a-f414aabea0a2",
   "metadata": {},
   "outputs": [
    {
     "data": {
      "text/html": [
       "<div>\n",
       "<style scoped>\n",
       "    .dataframe tbody tr th:only-of-type {\n",
       "        vertical-align: middle;\n",
       "    }\n",
       "\n",
       "    .dataframe tbody tr th {\n",
       "        vertical-align: top;\n",
       "    }\n",
       "\n",
       "    .dataframe thead th {\n",
       "        text-align: right;\n",
       "    }\n",
       "</style>\n",
       "<table border=\"1\" class=\"dataframe\">\n",
       "  <thead>\n",
       "    <tr style=\"text-align: right;\">\n",
       "      <th></th>\n",
       "      <th>date</th>\n",
       "      <th>net_borrowing_excluding_public_sector</th>\n",
       "      <th>net_borrowing_including _public_sector</th>\n",
       "      <th>year</th>\n",
       "      <th>net_borrowing_billion</th>\n",
       "    </tr>\n",
       "    <tr>\n",
       "      <th>month_date</th>\n",
       "      <th></th>\n",
       "      <th></th>\n",
       "      <th></th>\n",
       "      <th></th>\n",
       "      <th></th>\n",
       "    </tr>\n",
       "  </thead>\n",
       "  <tbody>\n",
       "    <tr>\n",
       "      <th>2015-04-01</th>\n",
       "      <td>2015 Apr</td>\n",
       "      <td>12.10</td>\n",
       "      <td>11,496</td>\n",
       "      <td>2015</td>\n",
       "      <td>12.10</td>\n",
       "    </tr>\n",
       "    <tr>\n",
       "      <th>2016-04-01</th>\n",
       "      <td>2016 Apr</td>\n",
       "      <td>12.29</td>\n",
       "      <td>11,571</td>\n",
       "      <td>2016</td>\n",
       "      <td>12.29</td>\n",
       "    </tr>\n",
       "    <tr>\n",
       "      <th>2017-04-01</th>\n",
       "      <td>2017 Apr</td>\n",
       "      <td>12.69</td>\n",
       "      <td>11,082</td>\n",
       "      <td>2017</td>\n",
       "      <td>12.69</td>\n",
       "    </tr>\n",
       "    <tr>\n",
       "      <th>2018-04-01</th>\n",
       "      <td>2018 Apr</td>\n",
       "      <td>10.17</td>\n",
       "      <td>9,522</td>\n",
       "      <td>2018</td>\n",
       "      <td>10.17</td>\n",
       "    </tr>\n",
       "    <tr>\n",
       "      <th>2019-04-01</th>\n",
       "      <td>2019 Apr</td>\n",
       "      <td>11.40</td>\n",
       "      <td>11,525</td>\n",
       "      <td>2019</td>\n",
       "      <td>11.40</td>\n",
       "    </tr>\n",
       "    <tr>\n",
       "      <th>2020-04-01</th>\n",
       "      <td>2020 Apr</td>\n",
       "      <td>49.32</td>\n",
       "      <td>48,481</td>\n",
       "      <td>2020</td>\n",
       "      <td>49.32</td>\n",
       "    </tr>\n",
       "    <tr>\n",
       "      <th>2021-04-01</th>\n",
       "      <td>2021 Apr</td>\n",
       "      <td>23.69</td>\n",
       "      <td>22,924</td>\n",
       "      <td>2021</td>\n",
       "      <td>23.69</td>\n",
       "    </tr>\n",
       "    <tr>\n",
       "      <th>2022-04-01</th>\n",
       "      <td>2022 Apr</td>\n",
       "      <td>13.57</td>\n",
       "      <td>12,721</td>\n",
       "      <td>2022</td>\n",
       "      <td>13.57</td>\n",
       "    </tr>\n",
       "    <tr>\n",
       "      <th>2023-04-01</th>\n",
       "      <td>2023 Apr</td>\n",
       "      <td>19.97</td>\n",
       "      <td>19,045</td>\n",
       "      <td>2023</td>\n",
       "      <td>19.97</td>\n",
       "    </tr>\n",
       "    <tr>\n",
       "      <th>2024-04-01</th>\n",
       "      <td>2024 Apr</td>\n",
       "      <td>19.14</td>\n",
       "      <td>18,543</td>\n",
       "      <td>2024</td>\n",
       "      <td>19.14</td>\n",
       "    </tr>\n",
       "    <tr>\n",
       "      <th>2025-04-01</th>\n",
       "      <td>2025 Apr</td>\n",
       "      <td>20.16</td>\n",
       "      <td>20,155</td>\n",
       "      <td>2025</td>\n",
       "      <td>20.16</td>\n",
       "    </tr>\n",
       "  </tbody>\n",
       "</table>\n",
       "</div>"
      ],
      "text/plain": [
       "                date  net_borrowing_excluding_public_sector  \\\n",
       "month_date                                                    \n",
       "2015-04-01  2015 Apr                                  12.10   \n",
       "2016-04-01  2016 Apr                                  12.29   \n",
       "2017-04-01  2017 Apr                                  12.69   \n",
       "2018-04-01  2018 Apr                                  10.17   \n",
       "2019-04-01  2019 Apr                                  11.40   \n",
       "2020-04-01  2020 Apr                                  49.32   \n",
       "2021-04-01  2021 Apr                                  23.69   \n",
       "2022-04-01  2022 Apr                                  13.57   \n",
       "2023-04-01  2023 Apr                                  19.97   \n",
       "2024-04-01  2024 Apr                                  19.14   \n",
       "2025-04-01  2025 Apr                                  20.16   \n",
       "\n",
       "           net_borrowing_including _public_sector  year  net_borrowing_billion  \n",
       "month_date                                                                      \n",
       "2015-04-01                                 11,496  2015                  12.10  \n",
       "2016-04-01                                 11,571  2016                  12.29  \n",
       "2017-04-01                                 11,082  2017                  12.69  \n",
       "2018-04-01                                  9,522  2018                  10.17  \n",
       "2019-04-01                                 11,525  2019                  11.40  \n",
       "2020-04-01                                 48,481  2020                  49.32  \n",
       "2021-04-01                                 22,924  2021                  23.69  \n",
       "2022-04-01                                 12,721  2022                  13.57  \n",
       "2023-04-01                                 19,045  2023                  19.97  \n",
       "2024-04-01                                 18,543  2024                  19.14  \n",
       "2025-04-01                                 20,155  2025                  20.16  "
      ]
     },
     "execution_count": 135,
     "metadata": {},
     "output_type": "execute_result"
    }
   ],
   "source": [
    "df_april"
   ]
  },
  {
   "cell_type": "code",
   "execution_count": 134,
   "id": "7bb21092-2194-4b0e-8535-7e4365487c52",
   "metadata": {},
   "outputs": [
    {
     "data": {
      "image/png": "[encoded data removed]",
      "text/plain": [
       "<Figure size 1600x600 with 1 Axes>"
      ]
     },
     "metadata": {},
     "output_type": "display_data"
    }
   ],
   "source": [
    "import matplotlib.pyplot as plt\n",
    "import pandas as pd\n",
    "import matplotlib.dates as mdates\n",
    "\n",
    "# Filter for dates since Brexit (custom start)\n",
    "brexit_start = pd.to_datetime('2023-01-01')\n",
    "df_brexit = df[df.index >= brexit_start].copy()\n",
    "\n",
    "# Calculate % change\n",
    "df_brexit['monthly_pct_change'] = df_brexit['net_borrowing_excluding_public_sector'].pct_change() * 100\n",
    "\n",
    "df_brexit['prev'] = df_brexit['net_borrowing_excluding_public_sector'].shift(1)\n",
    "df_brexit['manual_pct_change'] = ((df_brexit['net_borrowing_excluding_public_sector'] - df_brexit['prev']) / df_brexit['prev']) * 100\n",
    "\n",
    "# Show the rows with the biggest changes\n",
    "#print(df_brexit[['net_borrowing_excluding_public_sector', 'prev', 'monthly_pct_change', 'manual_pct_change']].sort_values(by='manual_pct_change', ascending=False).head(5))\n",
    "\n",
    "\n",
    "\n",
    "\n",
    "# Plot setup (pure matplotlib styling)\n",
    "fig, ax = plt.subplots(figsize=(16, 6))\n",
    "\n",
    "# Dark background styling\n",
    "fig.patch.set_facecolor('#121212')       # Full figure background\n",
    "ax.set_facecolor('#121212')              # Plot area background\n",
    "ax.spines['top'].set_color('white')\n",
    "ax.spines['bottom'].set_color('white')\n",
    "ax.spines['left'].set_color('white')\n",
    "ax.spines['right'].set_color('white')\n",
    "\n",
    "# Plot line\n",
    "ax.plot(df_brexit.index, df_brexit['monthly_pct_change'],\n",
    "        marker='o', color='#00c8ff', linewidth=2.5, label='Monthly % Change')\n",
    "\n",
    "# Horizontal line at 0\n",
    "ax.axhline(0, color='gray', linestyle='--', linewidth=1)\n",
    "\n",
    "# Format x-axis\n",
    "ax.xaxis.set_major_formatter(mdates.DateFormatter('%b %Y'))\n",
    "ax.xaxis.set_major_locator(mdates.MonthLocator(interval=2))\n",
    "plt.xticks(rotation=45, ha='right', fontsize=10, color='white')\n",
    "\n",
    "# Y-axis formatting\n",
    "ax.tick_params(axis='y', labelsize=10, colors='white')\n",
    "\n",
    "# Annotate large changes\n",
    "for date, change in zip(df_brexit.index, df_brexit['monthly_pct_change']):\n",
    "    if pd.notna(change) and abs(change) > 10:\n",
    "        ax.annotate(f\"{change:.1f}%\",\n",
    "                    xy=(date, change),\n",
    "                    xytext=(0, 8),\n",
    "                    textcoords=\"offset points\",\n",
    "                    ha='center',\n",
    "                    fontsize=12,\n",
    "                    fontweight='bold',\n",
    "                    color='green' if change < 0 else 'red')\n",
    "\n",
    "# Titles and labels\n",
    "ax.set_title('📉 Monthly % Change in UK Net Borrowing Since Brexit',\n",
    "             fontsize=16, fontweight='bold', color='white', pad=20)\n",
    "ax.set_xlabel('Date', fontsize=12, color='white')\n",
    "ax.set_ylabel('Percentage Change (%)', fontsize=12, color='white')\n",
    "\n",
    "# Remove grid if preferred or customize\n",
    "ax.grid(False)\n",
    "\n",
    "# Legend (optional)\n",
    "# ax.legend(facecolor='#121212', edgecolor='white', fontsize=10, labelcolor='white')\n",
    "\n",
    "# Final layout\n",
    "plt.tight_layout()\n",
    "plt.show()\n"
   ]
  },
  {
   "cell_type": "code",
   "execution_count": null,
   "id": "ede94acc-b96d-4b89-9d24-d0fb4dba0c8b",
   "metadata": {},
   "outputs": [],
   "source": []
  },
  {
   "cell_type": "code",
   "execution_count": null,
   "id": "1be5cf11-0332-44d4-aae6-5bb6829c7a22",
   "metadata": {},
   "outputs": [],
   "source": []
  },
  {
   "cell_type": "code",
   "execution_count": null,
   "id": "f4aaa9ce-8ab1-48ff-a0ec-ac393f5d0713",
   "metadata": {},
   "outputs": [],
   "source": []
  },
  {
   "cell_type": "code",
   "execution_count": null,
   "id": "256b31ac-64d7-4ed9-81fc-e6ba2c49f002",
   "metadata": {},
   "outputs": [],
   "source": []
  },
  {
   "cell_type": "code",
   "execution_count": null,
   "id": "be0393a2-dabd-4304-be4d-8a10a0516108",
   "metadata": {},
   "outputs": [],
   "source": []
  },
  {
   "cell_type": "code",
   "execution_count": null,
   "id": "6cf69a74-997f-4b52-8b02-01c268c8d01f",
   "metadata": {},
   "outputs": [],
   "source": []
  },
  {
   "cell_type": "code",
   "execution_count": null,
   "id": "b9b8afa2-db0b-4af3-ae81-5996f855ec72",
   "metadata": {},
   "outputs": [],
   "source": []
  }
 ],
 "metadata": {
  "kernelspec": {
   "display_name": "Python 3 (ipykernel)",
   "language": "python",
   "name": "python3"
  },
  "language_info": {
   "codemirror_mode": {
    "name": "ipython",
    "version": 3
   },
   "file_extension": ".py",
   "mimetype": "text/x-python",
   "name": "python",
   "nbconvert_exporter": "python",
   "pygments_lexer": "ipython3",
   "version": "3.11.7"
  }
 },
 "nbformat": 4,
 "nbformat_minor": 5
}
