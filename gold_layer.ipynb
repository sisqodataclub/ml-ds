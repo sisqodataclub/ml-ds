{
 "cells": [
  {
   "cell_type": "code",
   "execution_count": null,
   "id": "ae333712-be41-4de0-a2d2-ac63245be0cd",
   "metadata": {},
   "outputs": [],
   "source": [
    "import os\n",
    "import subprocess\n",
    "\n",
    "def reset_repo(repo_url, local_dir):\n",
    "    \"\"\"\n",
    "    Force resets a local Git repository to match the remote repository.\n",
    "    \n",
    "    Parameters:\n",
    "    repo_url (str): GitHub repository URL.\n",
    "    local_dir (str): Target directory where the repo is stored.\n",
    "\n",
    "    Returns:\n",
    "    None\n",
    "    \"\"\"\n",
    "    try:\n",
    "        # Extract repo name from URL\n",
    "        repo_name = repo_url.split(\"/\")[-1].replace(\".git\", \"\")\n",
    "        repo_path = os.path.join(local_dir, repo_name)\n",
    "\n",
    "        if os.path.exists(repo_path):\n",
    "            print(f\"⚠️ Repository already exists at {repo_path}. Resetting to remote version...\")\n",
    "            os.chdir(repo_path)\n",
    "\n",
    "            # Ensure we are on the main branch\n",
    "            subprocess.run(\"git checkout main\", shell=True, check=True)\n",
    "\n",
    "            # Reset local changes and force pull from remote\n",
    "            \n",
    "            #subprocess.run(\"git fetch --all\", shell=True, check=True)\n",
    "            subprocess.run(\"git fetch --all\", shell=True, check=True)\n",
    "            subprocess.run(\"git reset --hard origin/main\", shell=True, check=True)\n",
    "\n",
    "            print(\"✅ Repository successfully reset to match remote.\")\n",
    "            return\n",
    "\n",
    "        # If repo doesn't exist, clone it\n",
    "        os.chdir(local_dir)\n",
    "        subprocess.run(f\"git clone {repo_url}\", shell=True, check=True)\n",
    "        print(f\"✅ Repository cloned successfully: {repo_url}\")\n",
    "\n",
    "    except Exception as e:\n",
    "        print(f\"❌ Error: {e}\")\n",
    "\n",
    "\n"
   ]
  },
  {
   "cell_type": "code",
   "execution_count": null,
   "id": "f80b9913-b95d-4fd3-8774-1e899af84a22",
   "metadata": {},
   "outputs": [],
   "source": [
    "ml-ds"
   ]
  },
  {
   "cell_type": "code",
   "execution_count": 28,
   "id": "d9a29a46-baee-4ae9-86d7-c0f5ba935f62",
   "metadata": {},
   "outputs": [
    {
     "name": "stdout",
     "output_type": "stream",
     "text": [
      "⚠️ Repository already exists at C:\\Users\\fd92u\\ml-ds. Resetting to remote version...\n",
      "✅ Repository successfully reset to match remote.\n"
     ]
    }
   ],
   "source": [
    "# Usage\n",
    "#repo_url = \"https://github.com/sisqodataclub/supabase.git\"\n",
    "repo_url = \"https://github.com/sisqodataclub/ml-ds.git\"  \n",
    "\n",
    "local_dir = r\"C:\\Users\\fd92u\"\n",
    "reset_repo(repo_url, local_dir)"
   ]
  },
  {
   "cell_type": "code",
   "execution_count": null,
   "id": "f76c9d6f-c4ba-48b1-a736-9f08ef331c9b",
   "metadata": {},
   "outputs": [],
   "source": []
  },
  {
   "cell_type": "code",
   "execution_count": null,
   "id": "3b14cd97-4c96-43c1-bdaf-8b426f3bd8d6",
   "metadata": {},
   "outputs": [],
   "source": [
    "import os\n",
    "import subprocess\n",
    "\n",
    "# Set the correct project directory (update this path if needed)\n",
    "project_dir = r\"C:\\Users\\fd92u\\supabase\"  # Change this to your actual project folder\n",
    "repo_url = \"https://github.com/sisqodataclub/supabase.git\"\n",
    "\n",
    "# Change to the project directory\n",
    "os.chdir(project_dir)\n",
    "\n",
    "def run_command(command):\n",
    "    \"\"\"Executes a shell command and prints the output.\"\"\"\n",
    "    process = subprocess.run(command, shell=True, capture_output=True, text=True)\n",
    "    if process.returncode == 0:\n",
    "        print(f\"✅ {command} executed successfully!\")\n",
    "    else:\n",
    "        print(f\"❌ Error executing {command}: {process.stderr}\")\n",
    "\n",
    "# Ensure we are not re-adding the same remote\n",
    "run_command(\"git remote remove origin\")  # Remove existing remote if any\n",
    "\n",
    "# Git commands\n",
    "commands = [\n",
    "    \"git init\",  # Initialize Git\n",
    "    \"echo 'node_modules/\\n__pycache__/\\n.DS_Store\\nvenv/' > .gitignore\",  # Create .gitignore\n",
    "    \"git add .\",  # Stage all files\n",
    "    'git commit -m \"Added Jupyter Notebook\"',  # Commit changes\n",
    "    f\"git remote add origin {repo_url}\",  # Add remote repository\n",
    "    \"git branch -M main\",  # Rename branch to main\n",
    "    \"git push -u origin main\"  # Push to GitHub\n",
    "]\n",
    "\n",
    "# Execute the commands\n",
    "for command in commands:\n",
    "    run_command(command)\n",
    "\n",
    "print(\"🚀 Supabase project pushed to GitHub!\")\n"
   ]
  },
  {
   "cell_type": "code",
   "execution_count": null,
   "id": "16953a35-60e8-4437-94a7-f46ae036f514",
   "metadata": {},
   "outputs": [],
   "source": []
  },
  {
   "cell_type": "code",
   "execution_count": 26,
   "id": "2d386b31-aae1-4e30-8260-31ef59e37687",
   "metadata": {},
   "outputs": [
    {
     "name": "stdout",
     "output_type": "stream",
     "text": [
      "✅ git init executed successfully!\n",
      "✅ git add gold_layer.ipynb executed successfully!\n",
      "✅ git commit -m \"Added Jupyter Notebook\" executed successfully!\n",
      "❌ Error executing git remote add origin https://github.com/sisqodataclub/ml-ds.git: error: remote origin already exists.\n",
      "\n",
      "✅ git branch -M main executed successfully!\n",
      "❌ Error executing git push -u origin main: To https://github.com/sisqodataclub/ml-ds.git\n",
      " ! [rejected]        main -> main (fetch first)\n",
      "error: failed to push some refs to 'https://github.com/sisqodataclub/ml-ds.git'\n",
      "hint: Updates were rejected because the remote contains work that you do not\n",
      "hint: have locally. This is usually caused by another repository pushing to\n",
      "hint: the same ref. If you want to integrate the remote changes, use\n",
      "hint: 'git pull' before pushing again.\n",
      "hint: See the 'Note about fast-forwards' in 'git push --help' for details.\n",
      "\n",
      "✅ Jupyter Notebook successfully pushed to GitHub!\n"
     ]
    }
   ],
   "source": [
    "dir = r\"C:\\Users\\fd92u\\ml-ds\"\n",
    "os.chdir(dir)\n",
    "\n",
    "# Define the notebook filename and repository\n",
    "notebook_filename = \"gold_layer.ipynb\"\n",
    "\n",
    "# Git commands to push the Jupyter Notebook\n",
    "commands = [\n",
    "    \"git init\",\n",
    "    f\"git add {notebook_filename}\",\n",
    "    'git commit -m \"Added Jupyter Notebook\"',\n",
    "    f\"git remote add origin {repo_url}\",\n",
    "    \"git branch -M main\",\n",
    "    \"git push -u origin main\"\n",
    "]\n",
    "\n",
    "for command in commands:\n",
    "    run_command(command)\n",
    "\n",
    "print(\"✅ Jupyter Notebook successfully pushed to GitHub!\")\n"
   ]
  }
 ],
 "metadata": {
  "kernelspec": {
   "display_name": "Python 3 (ipykernel)",
   "language": "python",
   "name": "python3"
  },
  "language_info": {
   "codemirror_mode": {
    "name": "ipython",
    "version": 3
   },
   "file_extension": ".py",
   "mimetype": "text/x-python",
   "name": "python",
   "nbconvert_exporter": "python",
   "pygments_lexer": "ipython3",
   "version": "3.11.7"
  }
 },
 "nbformat": 4,
 "nbformat_minor": 5
}
